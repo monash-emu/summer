{
 "cells": [
  {
   "cell_type": "markdown",
   "id": "valued-provider",
   "metadata": {},
   "source": [
    "# Chapter 2"
   ]
  },
  {
   "cell_type": "code",
   "execution_count": null,
   "id": "graphic-secretariat",
   "metadata": {},
   "outputs": [],
   "source": [
    "from summer import CompartmentalModel\n",
    "import matplotlib.pyplot as plt"
   ]
  },
  {
   "cell_type": "code",
   "execution_count": null,
   "id": "floral-kitty",
   "metadata": {},
   "outputs": [],
   "source": [
    "# Key input parameters in model\n",
    "t_step = 1  # Size of time step (days)\n",
    "total_population = 100000  # Total population size\n",
    "ave_preinfous = 2  # Average pre-infectious period (days)\n",
    "ave_infous = 2  # Average duration of infectiousness (days)\n",
    "r0 = 2  # R0\n",
    "\n",
    "# Parameters derived from the above, no need to consider time step, which is done automatically\n",
    "beta = r0 / ave_infous  # No need to divide by population because this is part of infection_frequency\n",
    "infous_rate = 1 / ave_preinfous\n",
    "rec_rate = 1 / ave_infous\n",
    "\n",
    "infectious_seed = 1"
   ]
  },
  {
   "cell_type": "code",
   "execution_count": null,
   "id": "isolated-bridges",
   "metadata": {},
   "outputs": [],
   "source": [
    "# Set up the SEIR model\n",
    "compartments = (\"Susceptible\", \"Pre-infectious\", \"Infectious\", \"Immune\")\n",
    "seir_model = CompartmentalModel(\n",
    "    times=[0, 200],\n",
    "    compartments=compartments,\n",
    "    infectious_compartments=[\"Infectious\"],\n",
    "    timestep=t_step,\n",
    ")\n",
    "seir_model.set_initial_population(\n",
    "    distribution={\n",
    "        \"Susceptible\": total_population - infectious_seed, \n",
    "        \"Infectious\": infectious_seed\n",
    "    }\n",
    ")\n",
    "seir_model.add_infection_frequency_flow(\n",
    "    name=\"infection\", \n",
    "    contact_rate=beta,\n",
    "    source=\"Susceptible\",\n",
    "    dest=\"Pre-infectious\"\n",
    ")\n",
    "seir_model.add_transition_flow(\n",
    "    name=\"progression\", \n",
    "    fractional_rate=infous_rate,\n",
    "    source=\"Pre-infectious\", \n",
    "    dest=\"Infectious\"\n",
    ")\n",
    "seir_model.add_transition_flow(\n",
    "    name=\"recovery\", \n",
    "    fractional_rate=rec_rate, \n",
    "    source=\"Infectious\", \n",
    "    dest=\"Immune\"\n",
    ")\n",
    "seir_model.request_output_for_flow(\n",
    "    name=\"incidence\", \n",
    "    flow_name=\"progression\"\n",
    ")\n",
    "seir_model.request_output_for_flow(\n",
    "    name=\"infection\", \n",
    "    flow_name=\"infection\"\n",
    ")"
   ]
  },
  {
   "cell_type": "code",
   "execution_count": null,
   "id": "understanding-wheat",
   "metadata": {},
   "outputs": [],
   "source": [
    "# Run the SEIR model\n",
    "seir_model.run()"
   ]
  },
  {
   "cell_type": "code",
   "execution_count": null,
   "id": "improved-watch",
   "metadata": {},
   "outputs": [],
   "source": [
    "# Plot the outputs\n",
    "\n",
    "# Create axes\n",
    "fig, ax = plt.subplots(1, 1, dpi=120)\n",
    "right_ax = ax.twinx()\n",
    "\n",
    "# Plot\n",
    "for compartment_idx in [0, -1]:\n",
    "    ax.plot(seir_model.times, seir_model.outputs.T[compartment_idx])\n",
    "right_ax.plot(seir_model.times, seir_model.derived_outputs[\"incidence\"], color=\"purple\")\n",
    "right_ax.plot(seir_model.times, seir_model.derived_outputs[\"infection\"], color=\"navy\", linestyle=\"--\")\n",
    "\n",
    "# Tidy up\n",
    "ax.set_ylim((0, 1e5))\n",
    "ax.set_ylabel(\"Number of susceptible or immune individuals\")\n",
    "right_ax.set_ylim((0, 5000))\n",
    "right_ax.set_ylabel(\"Number of new infectious persons/time step\")"
   ]
  },
  {
   "cell_type": "code",
   "execution_count": null,
   "id": "typical-stock",
   "metadata": {},
   "outputs": [],
   "source": [
    "# Set up the SIR model\n",
    "compartments = (\"Susceptible\", \"Infectious\", \"Immune\")\n",
    "sir_model = CompartmentalModel(\n",
    "    times=[0, 200],\n",
    "    compartments=compartments,\n",
    "    infectious_compartments=[\"Infectious\"],\n",
    "    timestep=t_step,\n",
    ")\n",
    "sir_model.set_initial_population(\n",
    "    distribution={\n",
    "        \"Susceptible\": total_population - infectious_seed, \n",
    "        \"Infectious\": infectious_seed\n",
    "    }\n",
    ")\n",
    "sir_model.add_infection_frequency_flow(\n",
    "    name=\"infection\", \n",
    "    contact_rate=1, \n",
    "    source=\"Susceptible\", \n",
    "    dest=\"Infectious\"\n",
    ")\n",
    "sir_model.add_transition_flow(\n",
    "    name=\"recovery\", \n",
    "    fractional_rate=rec_rate, \n",
    "    source=\"Infectious\", \n",
    "    dest=\"Immune\"\n",
    ")\n",
    "sir_model.request_output_for_flow(\n",
    "    name=\"infection\", \n",
    "    flow_name=\"infection\"\n",
    ")"
   ]
  },
  {
   "cell_type": "code",
   "execution_count": null,
   "id": "loaded-dodge",
   "metadata": {},
   "outputs": [],
   "source": [
    "# Run the SIR model\n",
    "sir_model.run()"
   ]
  },
  {
   "cell_type": "code",
   "execution_count": null,
   "id": "rough-region",
   "metadata": {},
   "outputs": [],
   "source": [
    "# Plot the outputs\n",
    "\n",
    "# Create axes\n",
    "fig, ax = plt.subplots(1, 1, dpi=120)\n",
    "right_ax = ax.twinx()\n",
    "\n",
    "# Plot\n",
    "ax.plot(seir_model.times, seir_model.outputs.T[-1], color=\"green\")\n",
    "ax.plot(sir_model.times, sir_model.outputs.T[-1], color=\"green\", linestyle=\"--\")\n",
    "right_ax.plot(seir_model.times, seir_model.derived_outputs[\"incidence\"], color=\"purple\")\n",
    "right_ax.plot(sir_model.times, sir_model.derived_outputs[\"infection\"], color=\"purple\", linestyle=\"--\")\n",
    "\n",
    "# Tidy up\n",
    "ax.set_ylim((0, 1e5))\n",
    "ax.set_ylabel(\"Number of immune individuals\")\n",
    "right_ax.set_ylim((0, 1e4))\n",
    "right_ax.set_ylabel(\"Number of new infectious persons/time step\")"
   ]
  },
  {
   "cell_type": "markdown",
   "id": "empty-trout",
   "metadata": {},
   "source": [
    "# Chapter 3"
   ]
  },
  {
   "cell_type": "code",
   "execution_count": null,
   "id": "practical-lightweight",
   "metadata": {},
   "outputs": [],
   "source": [
    "# No more analysis needed, straight to plotting\n",
    "fig, ax = plt.subplots(1, 1, dpi=120)\n",
    "ax.plot(seir_model.times, seir_model.outputs.T[2], color=\"red\")\n",
    "ax.set_xlim(0, 1e2)\n",
    "ax.set_ylim((0, 2e4))\n",
    "ax.set_xlabel(\"Time (days)\")\n",
    "ax.set_ylabel(\"Number of infectious persons\")"
   ]
  },
  {
   "cell_type": "markdown",
   "id": "premier-pontiac",
   "metadata": {},
   "source": [
    "## Model 3.2"
   ]
  },
  {
   "cell_type": "code",
   "execution_count": null,
   "id": "isolated-academy",
   "metadata": {},
   "outputs": [],
   "source": [
    "# Recycle the parameters that are unchanged, but change the following:\n",
    "ave_preinfous = 8\n",
    "ave_infous = 7\n",
    "r0 = 13\n",
    "life_expectancy = 70\n",
    "\n",
    "# Derived parameters\n",
    "beta = r0 / ave_infous\n",
    "infous_rate = 1 / ave_preinfous\n",
    "rec_rate = 1 / ave_infous\n",
    "m_rate = 1 / life_expectancy / 365\n",
    "\n",
    "# Create the SEIR model with demographic processes\n",
    "compartments = (\"Susceptible\", \"Pre-infectious\", \"Infectious\", \"Immune\")\n",
    "seir_demog_model = CompartmentalModel(\n",
    "    times=[0, 36500],\n",
    "    compartments=compartments,\n",
    "    infectious_compartments=[\"Infectious\"],\n",
    "    timestep=t_step,\n",
    ")\n",
    "seir_demog_model.set_initial_population(\n",
    "    distribution={\n",
    "        \"Susceptible\": total_population - infectious_seed, \n",
    "        \"Infectious\": infectious_seed\n",
    "    }\n",
    ")\n",
    "seir_demog_model.add_infection_frequency_flow(\n",
    "    name=\"infection\", \n",
    "    contact_rate=beta,\n",
    "    source=\"Susceptible\", \n",
    "    dest=\"Pre-infectious\"\n",
    ")\n",
    "seir_demog_model.add_transition_flow(\n",
    "    name=\"progression\", \n",
    "    fractional_rate=infous_rate,\n",
    "    source=\"Pre-infectious\", \n",
    "    dest=\"Infectious\"\n",
    ")\n",
    "seir_demog_model.add_transition_flow(\n",
    "    name=\"recovery\", \n",
    "    fractional_rate=rec_rate, \n",
    "    source=\"Infectious\", \n",
    "    dest=\"Immune\"\n",
    ")\n",
    "seir_demog_model.add_universal_death_flows(\n",
    "    \"universal_death\",\n",
    "    death_rate=m_rate\n",
    ")\n",
    "seir_demog_model.add_replacement_birth_flow(\n",
    "    \"births\",\n",
    "    \"Susceptible\"\n",
    ")\n",
    "\n",
    "seir_demog_model.request_output_for_flow(\n",
    "    name=\"incidence\", \n",
    "    flow_name=\"progression\"\n",
    ")"
   ]
  },
  {
   "cell_type": "code",
   "execution_count": null,
   "id": "lightweight-prize",
   "metadata": {},
   "outputs": [],
   "source": [
    "seir_demog_model.run(solver=\"euler\", step_size=t_step)"
   ]
  },
  {
   "cell_type": "code",
   "execution_count": null,
   "id": "engaged-mobile",
   "metadata": {},
   "outputs": [],
   "source": [
    "fig, ax = plt.subplots(1, 1, dpi=120)\n",
    "ax.plot(seir_demog_model.times, seir_demog_model.outputs.T[0], color=\"black\")\n",
    "ax.plot(seir_demog_model.times, seir_demog_model.outputs.T[-1], color=\"green\")\n",
    "ax.set_ylim((0, 1e5))\n",
    "ax.set_ylabel(\"Number of susceptible or immune persons\")\n",
    "ax.set_xlabel(\"Time (days)\")\n",
    "\n",
    "right_ax = ax.twinx()\n",
    "right_ax.plot()\n",
    "right_ax.plot(seir_demog_model.times, seir_demog_model.derived_outputs[\"incidence\"], color=\"purple\")\n",
    "right_ax.set_ylim((0, 300))\n",
    "right_ax.set_ylabel(\"Number of new infectious persons per time step\")"
   ]
  },
  {
   "cell_type": "markdown",
   "id": "declared-scanner",
   "metadata": {},
   "source": [
    "# Chapter 4\n",
    "## Model 4.1a\n",
    "### Figure 2\n",
    "Figure 1 only contains information in Figure 2."
   ]
  },
  {
   "cell_type": "code",
   "execution_count": null,
   "id": "stone-importance",
   "metadata": {},
   "outputs": [],
   "source": [
    "fig, ax = plt.subplots(1, 1, dpi=120)\n",
    "prop_susceptible = [i_sus / total_population for i_sus in seir_model.outputs.T[0]]\n",
    "prop_immune = [i_sus / total_population for i_sus in seir_model.outputs.T[-1]]\n",
    "r0 = 2\n",
    "rn = [i_prop_sus * r0 for i_prop_sus in prop_susceptible]\n",
    "\n",
    "ax.plot(seir_model.times, prop_susceptible, color=\"navy\")\n",
    "ax.plot(seir_model.times, prop_immune, color=\"green\", linestyle=\"--\")\n",
    "ax.plot(seir_model.times, rn, color=\"black\")\n",
    "\n",
    "ax.set_xlim(0, 1e2)\n",
    "ax.set_ylim((0, 2))\n",
    "ax.set_xlabel(\"Time (days)\")\n",
    "ax.set_ylabel(\"Proportion of susceptible or immune individuals and Rn\")\n",
    "\n",
    "right_ax = ax.twinx()\n",
    "right_ax.plot(seir_model.times, seir_model.derived_outputs[\"incidence\"], color=\"purple\", linestyle=\"--\")\n",
    "right_ax.set_ylim((0, 8e3))\n",
    "right_ax.set_ylabel(\"Number of new infectious persons/time step\")"
   ]
  },
  {
   "cell_type": "markdown",
   "id": "plastic-issue",
   "metadata": {},
   "source": [
    "### Figure 2"
   ]
  },
  {
   "cell_type": "code",
   "execution_count": null,
   "id": "religious-madrid",
   "metadata": {},
   "outputs": [],
   "source": [
    "fig, ax = plt.subplots(1, 1, dpi=120)\n",
    "ax.plot(seir_model.times, seir_model.derived_outputs[\"incidence\"], color=\"purple\", linestyle=\"--\")\n",
    "ax.set_xlim((0, 2e3))\n",
    "ax.set_yscale(\"log\")\n",
    "ax.set_ylim((1e-2, 1e4))"
   ]
  },
  {
   "cell_type": "code",
   "execution_count": null,
   "id": "decent-canvas",
   "metadata": {},
   "outputs": [],
   "source": [
    "t_step = 0.5\n",
    "total_population = 5234\n",
    "ave_preinfous = 2\n",
    "ave_infous = 2\n",
    "r0 = 2.1\n",
    "prop_immune_0 = 0.3\n",
    "infous_0 = 2\n",
    "n_immune_0 = prop_immune_0 * total_population\n",
    "beta = r0 / ave_infous\n",
    "infous_rate = 1 / ave_preinfous\n",
    "rec_rate = 1 / ave_infous\n",
    "\n",
    "# Set up the revised SEIR model\n",
    "compartments = (\"Susceptible\", \"Pre-infectious\", \"Infectious\", \"Immune\")\n",
    "seir_model_part_immune = CompartmentalModel(\n",
    "    times=[0, 120],\n",
    "    compartments=compartments,\n",
    "    infectious_compartments=[\"Infectious\"],\n",
    "    timestep=t_step,\n",
    ")\n",
    "seir_model_part_immune.set_initial_population(\n",
    "    distribution={\n",
    "        \"Susceptible\": total_population - infous_0 - n_immune_0, \n",
    "        \"Infectious\": infous_0,\n",
    "        \"Immune\": n_immune_0,\n",
    "    }\n",
    ")\n",
    "seir_model_part_immune.add_infection_frequency_flow(\n",
    "    name=\"infection\", \n",
    "    contact_rate=beta,\n",
    "    source=\"Susceptible\",\n",
    "    dest=\"Pre-infectious\"\n",
    ")\n",
    "seir_model_part_immune.add_transition_flow(\n",
    "    name=\"progression\", \n",
    "    fractional_rate=infous_rate,\n",
    "    source=\"Pre-infectious\", \n",
    "    dest=\"Infectious\"\n",
    ")\n",
    "seir_model_part_immune.add_transition_flow(\n",
    "    name=\"recovery\", \n",
    "    fractional_rate=rec_rate, \n",
    "    source=\"Infectious\", \n",
    "    dest=\"Immune\"\n",
    ")\n",
    "seir_model_part_immune.request_output_for_flow(\n",
    "    name=\"incidence\", \n",
    "    flow_name=\"progression\"\n",
    ")"
   ]
  },
  {
   "cell_type": "code",
   "execution_count": null,
   "id": "mediterranean-accuracy",
   "metadata": {},
   "outputs": [],
   "source": [
    "seir_model_part_immune.run()"
   ]
  },
  {
   "cell_type": "code",
   "execution_count": null,
   "id": "psychological-central",
   "metadata": {},
   "outputs": [],
   "source": [
    "fig, ax = plt.subplots(1, 1, dpi=120)\n",
    "ax.plot(seir_model_part_immune.times, seir_model_part_immune.outputs.T[0], color=\"navy\")\n",
    "ax.plot(seir_model_part_immune.times, seir_model_part_immune.outputs.T[-1], color=\"green\", linestyle=\"--\")\n",
    "ax.set_ylim((0, 5e3))\n",
    "ax.set_xlabel(\"Time (days)\")\n",
    "ax.set_ylabel(\"Number of susceptible or immune individuals\")\n",
    "\n",
    "right_ax = ax.twinx()\n",
    "right_ax.plot(\n",
    "    seir_model_part_immune.times, \n",
    "    seir_model_part_immune.derived_outputs[\"incidence\"], \n",
    "    color=\"purple\", \n",
    "    linestyle=\"--\"\n",
    ")\n",
    "right_ax.set_ylim((0, 1e2))\n",
    "right_ax.set_ylabel(\"Number of new infectious persons/time step\")"
   ]
  },
  {
   "cell_type": "markdown",
   "id": "empirical-inventory",
   "metadata": {},
   "source": [
    "## Model 4.3a\n",
    "### First panel"
   ]
  },
  {
   "cell_type": "code",
   "execution_count": null,
   "id": "arbitrary-finding",
   "metadata": {},
   "outputs": [],
   "source": [
    "fig, ax = plt.subplots(1, 1, dpi=120)\n",
    "ax.plot(seir_demog_model.times, seir_demog_model.outputs.T[0], color=\"black\")\n",
    "ax.plot(seir_demog_model.times, seir_demog_model.outputs.T[-1], color=\"green\")\n",
    "ax.set_ylim((0, 1e5))\n",
    "ax.set_ylabel(\"Number of susceptible or immune persons\")\n",
    "ax.set_xlabel(\"Time (days)\")\n",
    "ax.set_xlim((0, 18250))\n",
    "\n",
    "right_ax = ax.twinx()\n",
    "right_ax.plot(seir_demog_model.times, seir_demog_model.derived_outputs[\"incidence\"], color=\"purple\")\n",
    "right_ax.set_ylim((0, 300))\n",
    "right_ax.set_ylabel(\"Number of new infectious persons per time step\")"
   ]
  },
  {
   "cell_type": "markdown",
   "id": "dramatic-explorer",
   "metadata": {},
   "source": [
    "### Figure 1"
   ]
  },
  {
   "cell_type": "code",
   "execution_count": null,
   "id": "following-event",
   "metadata": {},
   "outputs": [],
   "source": [
    "fig, ax = plt.subplots(1, 1, dpi=120)\n",
    "\n",
    "# Reset a couple of parameters that had changed\n",
    "total_population = 1e5\n",
    "r0 = 13\n",
    "prop_susceptible = [i_sus / total_population for i_sus in seir_demog_model.outputs.T[0]]\n",
    "prop_immune = [i_imm / total_population for i_imm in seir_demog_model.outputs.T[-1]]\n",
    "rn = [i_prop_sus * r0 for i_prop_sus in prop_susceptible]\n",
    "ax.plot(seir_demog_model.times, rn)\n",
    "ax.set_ylim((0.5, 1.5))\n",
    "ax.set_ylabel(\"Rn\")\n",
    "ax.set_xlabel(\"Time (days)\")\n",
    "\n",
    "right_ax = ax.twinx()\n",
    "right_ax.plot(seir_demog_model.times, seir_demog_model.derived_outputs[\"incidence\"], color=\"purple\")\n",
    "right_ax.set_xlim((40 * 365, 50 * 365))\n",
    "right_ax.set_ylim((0, 20))\n",
    "right_ax.set_ylabel(\"Number of new infectious persons/day\")"
   ]
  },
  {
   "cell_type": "markdown",
   "id": "precise-poison",
   "metadata": {},
   "source": [
    "### Figure 2 (marked as 3)"
   ]
  },
  {
   "cell_type": "code",
   "execution_count": null,
   "id": "collect-omega",
   "metadata": {},
   "outputs": [],
   "source": [
    "ax.plot(seir_demog_model.times, prop_susceptible, color=\"navy\")\n",
    "ax.set_ylim((0.04, 0.12))\n",
    "ax.set_ylabel(\"Proportion susceptible\")\n",
    "fig"
   ]
  },
  {
   "cell_type": "markdown",
   "id": "solar-birth",
   "metadata": {},
   "source": [
    "### Figure 3"
   ]
  },
  {
   "cell_type": "code",
   "execution_count": null,
   "id": "equal-jones",
   "metadata": {},
   "outputs": [],
   "source": [
    "fig, ax = plt.subplots(1, 1, dpi=120)  # Need a new set of axes because too many lines now overlapping\n",
    "\n",
    "ax.plot(seir_demog_model.times, prop_immune, color=\"green\")\n",
    "ax.set_ylim((0.88, 0.96))\n",
    "ax.set_ylabel(\"Proportion immune\")\n",
    "\n",
    "right_ax = ax.twinx()\n",
    "right_ax.plot(seir_demog_model.times, seir_demog_model.derived_outputs[\"incidence\"], color=\"purple\")\n",
    "right_ax.set_xlim((40 * 365, 50 * 365))\n",
    "right_ax.set_ylim((0, 20))\n",
    "right_ax.set_ylabel(\"Number of new infectious persons/day\")"
   ]
  }
 ],
 "metadata": {
  "kernelspec": {
   "display_name": "Python 3",
   "language": "python",
   "name": "python3"
  },
  "language_info": {
   "codemirror_mode": {
    "name": "ipython",
    "version": 3
   },
   "file_extension": ".py",
   "mimetype": "text/x-python",
   "name": "python",
   "nbconvert_exporter": "python",
   "pygments_lexer": "ipython3",
   "version": "3.6.12"
  }
 },
 "nbformat": 4,
 "nbformat_minor": 5
}
