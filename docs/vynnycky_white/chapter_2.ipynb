{
 "cells": [
  {
   "cell_type": "markdown",
   "id": "valued-provider",
   "metadata": {},
   "source": [
    "# Chapter 2\n",
    "`summer` validation to the Vynnycky and White outputs for Chapter 2."
   ]
  },
  {
   "cell_type": "code",
   "execution_count": null,
   "id": "graphic-secretariat",
   "metadata": {},
   "outputs": [],
   "source": [
    "from summer import CompartmentalModel\n",
    "import matplotlib.pyplot as plt"
   ]
  },
  {
   "cell_type": "code",
   "execution_count": null,
   "id": "floral-kitty",
   "metadata": {},
   "outputs": [],
   "source": [
    "# Model input parameters\n",
    "t_step = 1  # Size of time step (days)\n",
    "tot_popn = 100000  # Total population size\n",
    "ave_preinfous = 2  # Average pre-infectious period (days)\n",
    "ave_infous = 2  # Average duration of infectiousness (days)\n",
    "R0 = 2  # R0\n",
    "\n",
    "# Parameters derived from the above, no need to consider time step, which is done automatically\n",
    "beta = R0 / ave_infous  # No need to divide by population because this is part of infection_frequency\n",
    "infous_rate = 1 / ave_preinfous\n",
    "rec_rate = 1 / ave_infous\n",
    "\n",
    "infectious_seed = 1"
   ]
  },
  {
   "cell_type": "code",
   "execution_count": null,
   "id": "isolated-bridges",
   "metadata": {},
   "outputs": [],
   "source": [
    "# Set up the SEIR model\n",
    "compartments = (\n",
    "    \"Susceptible\", \n",
    "    \"Pre-infectious\", \n",
    "    \"Infectious\", \n",
    "    \"Immune\"\n",
    ")\n",
    "\n",
    "seir_model = CompartmentalModel(\n",
    "    times=(0, 200),\n",
    "    compartments=compartments,\n",
    "    infectious_compartments=(\"Infectious\",),\n",
    "    timestep=t_step,\n",
    ")\n",
    "\n",
    "seir_model.set_initial_population(\n",
    "    distribution={\n",
    "        \"Susceptible\": tot_popn - infectious_seed, \n",
    "        \"Infectious\": infectious_seed\n",
    "    }\n",
    ")\n",
    "\n",
    "seir_model.add_infection_frequency_flow(\n",
    "    name=\"infection\", \n",
    "    contact_rate=beta,\n",
    "    source=\"Susceptible\",\n",
    "    dest=\"Pre-infectious\"\n",
    ")\n",
    "\n",
    "seir_model.add_transition_flow(\n",
    "    name=\"progression\", \n",
    "    fractional_rate=infous_rate,\n",
    "    source=\"Pre-infectious\", \n",
    "    dest=\"Infectious\"\n",
    ")\n",
    "\n",
    "seir_model.add_transition_flow(\n",
    "    name=\"recovery\", \n",
    "    fractional_rate=rec_rate, \n",
    "    source=\"Infectious\", \n",
    "    dest=\"Immune\"\n",
    ")\n",
    "\n",
    "seir_model.request_output_for_flow(\n",
    "    name=\"incidence\", \n",
    "    flow_name=\"progression\"\n",
    ")"
   ]
  },
  {
   "cell_type": "markdown",
   "id": "01824ebe-47f9-4fa1-99b2-20a97260d72b",
   "metadata": {},
   "source": [
    "### Fig. 2.8, page 36, Vynnycky and White\n",
    "Also identical to Figure 1 from `model 2.1.xlsx` in worked examples."
   ]
  },
  {
   "cell_type": "code",
   "execution_count": null,
   "id": "understanding-wheat",
   "metadata": {},
   "outputs": [],
   "source": [
    "# Run our SEIR model\n",
    "seir_model.run(solver=\"euler\", step_size=t_step)\n",
    "seir_compartments = seir_model.get_outputs_df()"
   ]
  },
  {
   "cell_type": "code",
   "execution_count": null,
   "id": "improved-watch",
   "metadata": {},
   "outputs": [],
   "source": [
    "fig, (left_ax, right_ax) = plt.subplots(1, 2, figsize=(14, 5))\n",
    "twin_ax = left_ax.twinx()\n",
    "\n",
    "# Plot our modelled data\n",
    "left_ax.plot(seir_compartments[[\"Susceptible\", \"Immune\"]], color=\"gray\")\n",
    "twin_ax.plot(seir_model.times, seir_model.derived_outputs[\"incidence\"], color=\"gray\")\n",
    "\n",
    "# Comparison graph from textbook\n",
    "image = plt.imread(\"./textbook_figures/fig_2_8.jpg\")\n",
    "right_ax.axis(\"off\")\n",
    "right_ax.imshow(image, aspect=\"auto\")\n",
    "\n",
    "# Tidy up\n",
    "left_ax.set_xlabel(\"Time (days)\")\n",
    "left_ax.set_xlim((0, 200))\n",
    "left_ax.set_ylim((0, 1e5))\n",
    "left_ax.set_ylabel(\"Number of susceptible or immune individuals\")\n",
    "twin_ax.set_ylim((0, 5000))\n",
    "twin_ax.set_ylabel(\"Number of new infectious persons/time step\");"
   ]
  },
  {
   "cell_type": "markdown",
   "id": "cd5d231f-e95a-4d1f-beca-6f70389cd5f6",
   "metadata": {},
   "source": [
    "### Figure 1 from `model 2.1a.xlsx` in worked examples\n",
    "Very similar to Figure 1 from `model 2.1.xlsx`, and also includes the outputs from the other inset figure in `model 2.1.xlsx`."
   ]
  },
  {
   "cell_type": "code",
   "execution_count": null,
   "id": "18e1e102-64fa-42a3-8035-c37dd2651553",
   "metadata": {},
   "outputs": [],
   "source": [
    "# Use the same model, but request an additional output\n",
    "seir_model.request_output_for_flow(\n",
    "    name=\"infection\", \n",
    "    flow_name=\"infection\"\n",
    ")\n",
    "\n",
    "seir_model.run(solver=\"euler\", step_size=t_step)"
   ]
  },
  {
   "cell_type": "code",
   "execution_count": null,
   "id": "a5b6c548-e878-445d-9b4a-76d5fb2db720",
   "metadata": {},
   "outputs": [],
   "source": [
    "fig, (left_ax, right_ax) = plt.subplots(1, 2, figsize=(14, 5))\n",
    "twin_ax = left_ax.twinx()\n",
    "\n",
    "# Plot\n",
    "left_ax.plot(seir_compartments[\"Susceptible\"], color=\"b\")\n",
    "left_ax.plot(seir_compartments[\"Immune\"], color=\"lime\")\n",
    "twin_ax.plot(seir_model.derived_outputs[\"incidence\"], color=\"m\")\n",
    "twin_ax.plot(seir_model.derived_outputs[\"infection\"], color=\"lightblue\", linestyle=\":\")\n",
    "\n",
    "# Comparison graph from textbook\n",
    "image = plt.imread(\"./excel_model_figures/model_2_1_fig_1.JPG\")\n",
    "right_ax.axis(\"off\")\n",
    "right_ax.imshow(image, aspect=\"auto\")\n",
    "\n",
    "# Tidy up\n",
    "left_ax.set_xlabel(\"Time (days)\")\n",
    "left_ax.set_xlim((0, 200))\n",
    "left_ax.set_ylim((0, 1e5))\n",
    "left_ax.set_ylabel(\"Number of susceptible or immune individuals\")\n",
    "twin_ax.set_ylim((0, 5000))\n",
    "twin_ax.set_ylabel(\"Number of new infectious persons/time step\");"
   ]
  },
  {
   "cell_type": "code",
   "execution_count": null,
   "id": "typical-stock",
   "metadata": {},
   "outputs": [],
   "source": [
    "# Set up the SIR model\n",
    "compartments = (\"Susceptible\", \"Infectious\", \"Immune\")\n",
    "sir_model = CompartmentalModel(\n",
    "    times=[0, 200],\n",
    "    compartments=compartments,\n",
    "    infectious_compartments=[\"Infectious\"],\n",
    "    timestep=t_step,\n",
    ")\n",
    "\n",
    "sir_model.set_initial_population(\n",
    "    distribution={\n",
    "        \"Susceptible\": tot_popn - infectious_seed, \n",
    "        \"Infectious\": infectious_seed\n",
    "    }\n",
    ")\n",
    "\n",
    "sir_model.add_infection_frequency_flow(\n",
    "    name=\"infection\", \n",
    "    contact_rate=1, \n",
    "    source=\"Susceptible\", \n",
    "    dest=\"Infectious\"\n",
    ")\n",
    "\n",
    "sir_model.add_transition_flow(\n",
    "    name=\"recovery\", \n",
    "    fractional_rate=rec_rate, \n",
    "    source=\"Infectious\", \n",
    "    dest=\"Immune\"\n",
    ")\n",
    "\n",
    "sir_model.request_output_for_flow(\n",
    "    name=\"infection\", \n",
    "    flow_name=\"infection\"\n",
    ")"
   ]
  },
  {
   "cell_type": "markdown",
   "id": "4f7621b5-906a-4d36-afd9-73b0a7e76942",
   "metadata": {},
   "source": [
    "### Figure 2 from `model 2.1a.xlsx` in worked examples"
   ]
  },
  {
   "cell_type": "code",
   "execution_count": null,
   "id": "61c47a27-a451-4dab-9310-36c374a49c9f",
   "metadata": {},
   "outputs": [],
   "source": [
    "# Run the SIR model\n",
    "sir_model.run(solver=\"euler\", step_size=1.)\n",
    "sir_compartments = sir_model.get_outputs_df()"
   ]
  },
  {
   "cell_type": "code",
   "execution_count": null,
   "id": "rough-region",
   "metadata": {},
   "outputs": [],
   "source": [
    "fig, (left_ax, right_ax) = plt.subplots(1, 2, figsize=(14, 5))\n",
    "twin_ax = left_ax.twinx()\n",
    "\n",
    "# Plot\n",
    "left_ax.plot(seir_compartments[\"Immune\"], color=\"lightgreen\", label=\"Immune - SEIR\")\n",
    "left_ax.plot(sir_compartments[\"Immune\"], color=\"lightgreen\", linestyle=\"--\", label=\"Immune - SIR\")\n",
    "twin_ax.plot(seir_model.derived_outputs[\"incidence\"], color=\"m\", label=\"New infectious persons - SEIR\")\n",
    "twin_ax.plot(sir_model.derived_outputs[\"infection\"], color=\"m\", linestyle=\"--\", label=\"New infectious persons - SIR\")\n",
    "\n",
    "# Comparison graph from textbook\n",
    "image = plt.imread(\"./excel_model_figures/model_2_1a_fig_2.JPG\")\n",
    "right_ax.axis(\"off\")\n",
    "right_ax.imshow(image, aspect=\"auto\")\n",
    "\n",
    "# Tidy up\n",
    "left_ax.set_xlabel(\"Time (days)\")\n",
    "left_ax.set_ylim((0, 1e5))\n",
    "left_ax.set_ylabel(\"Number of immune individuals\")\n",
    "twin_ax.set_ylim((0, 1e4))\n",
    "twin_ax.set_ylabel(\"Number of new infectious persons/time step\")\n",
    "left_ax.legend()\n",
    "twin_ax.legend(loc=4);"
   ]
  },
  {
   "cell_type": "code",
   "execution_count": null,
   "id": "5fdf0c80-17ec-49d1-822b-7b3d7b80ec5c",
   "metadata": {},
   "outputs": [],
   "source": [
    "import pandas as pd"
   ]
  },
  {
   "cell_type": "code",
   "execution_count": null,
   "id": "1049a2a8-aeea-465f-a43e-15a6a11aff83",
   "metadata": {},
   "outputs": [],
   "source": [
    "# Get the worked example values\n",
    "model_2_1 = pd.read_excel(\n",
    "    \"./excel_models/model 2.1.xlsx\", \n",
    "    header=53, \n",
    "    usecols=\"B:E, G\"\n",
    ")\n",
    "model_2_1.rename(\n",
    "    columns={\"per time step\": \"New infectious persons\"}, \n",
    "    inplace=True\n",
    ")\n",
    "model_2_1.index = model_2_1.index.astype(float)"
   ]
  },
  {
   "cell_type": "code",
   "execution_count": null,
   "id": "76ca8046-076c-4672-b10e-11e83bbfb613",
   "metadata": {},
   "outputs": [],
   "source": [
    "comp_diffs = model_2_1.iloc[:200, :4] - seir_compartments\n",
    "comp_diffs.dropna().max().max()"
   ]
  },
  {
   "cell_type": "code",
   "execution_count": null,
   "id": "6a43ed77-035a-466d-a47e-d1b6ad87100c",
   "metadata": {},
   "outputs": [],
   "source": [
    "pd.options.plotting.backend = \"plotly\""
   ]
  },
  {
   "cell_type": "code",
   "execution_count": null,
   "id": "b0ef20d1-686c-497b-9dd6-a285bd307fa9",
   "metadata": {},
   "outputs": [],
   "source": [
    "seir_model.get_derived_outputs_df()[[\"incidence\"]]\n",
    "model_2_1.loc[1: 200, [\"New infectious persons\"]]"
   ]
  },
  {
   "cell_type": "code",
   "execution_count": null,
   "id": "528a0641-6205-4808-b20c-0975b6c7fbd4",
   "metadata": {},
   "outputs": [],
   "source": [
    "comparison_df = pd.concat([seir_model.get_derived_outputs_df()[[\"incidence\"]], model_2_1.loc[1: 200, [\"New infectious persons\"]]], axis=1).dropna()\n",
    "comparison_df"
   ]
  },
  {
   "cell_type": "code",
   "execution_count": null,
   "id": "744ab2cd-167e-411a-8731-5068ae1afd68",
   "metadata": {},
   "outputs": [],
   "source": [
    "model_2_1.loc[1: 200, [\"New infectious persons\"]].plot()\n",
    "# seir_model.get_derived_outputs_df()[[\"incidence\"]].plot()"
   ]
  }
 ],
 "metadata": {
  "kernelspec": {
   "display_name": "Python 3 (ipykernel)",
   "language": "python",
   "name": "python3"
  },
  "language_info": {
   "codemirror_mode": {
    "name": "ipython",
    "version": 3
   },
   "file_extension": ".py",
   "mimetype": "text/x-python",
   "name": "python",
   "nbconvert_exporter": "python",
   "pygments_lexer": "ipython3",
   "version": "3.10.4"
  }
 },
 "nbformat": 4,
 "nbformat_minor": 5
}
