{
 "cells": [
  {
   "cell_type": "markdown",
   "id": "9365671b-76af-41be-a950-c2b9f2b5b0d5",
   "metadata": {},
   "source": [
    "As the authors note, their text is intended to \"bring the modelling world closer to people working in infectious diseases or public health\", and includes exercises \"designed to "
   ]
  }
 ],
 "metadata": {
  "kernelspec": {
   "display_name": "Python 3 (ipykernel)",
   "language": "python",
   "name": "python3"
  },
  "language_info": {
   "codemirror_mode": {
    "name": "ipython",
    "version": 3
   },
   "file_extension": ".py",
   "mimetype": "text/x-python",
   "name": "python",
   "nbconvert_exporter": "python",
   "pygments_lexer": "ipython3",
   "version": "3.10.3"
  }
 },
 "nbformat": 4,
 "nbformat_minor": 5
}
