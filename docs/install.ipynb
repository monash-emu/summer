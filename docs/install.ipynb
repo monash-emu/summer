{
 "cells": [
  {
   "cell_type": "markdown",
   "metadata": {},
   "source": [
    "# Installation and Quickstart\n",
    "\n",
    "This page will explain how to get started using the Summer library in your own project. If you would like to setup Summer as a contributor, or to run the [code examples](http://summerepi.com/examples/index.html), use [these instructions](https://github.com/monash-emu/summer/blob/master/docs/dev-setup.md) instead.\n",
    "\n",
    "## Prerequisites\n",
    "\n",
    "This library uses numerical computing packages such as NumPy, SciPy and Numba, which can be difficult to install on Windows and MacOS. As such, we recommend that you use the Anaconda Python distribution to install and run Summer. You can install a minimal Anaconda distribution (\"Miniconda\") [here](https://docs.conda.io/en/latest/miniconda.html).\n",
    "\n",
    "In any case, you will need to have Python 3.6+ and Pip (the Python package manager) available.\n",
    "\n",
    "If you are using Miniconda, then you will need to create an \"environment\" where you can install Summer and other packages you need for your project. You can create a new environment as follows:\n",
    "\n",
    "```bash\n",
    "# Create a new Anaconda environment.\n",
    "conda create -n myprojectname python=3.6\n",
    "# Make the new Anaconda environment active in your shell session.\n",
    "conda activate myprojectname\n",
    "```\n",
    "\n",
    "## Installation\n",
    "\n",
    "You can install summer from PyPI using the Pip package manager\n",
    "\n",
    "```bash\n",
    "pip install summerepi\n",
    "```\n",
    "\n",
    "Then you can import the library as `summer` and get started building compartmental disease models. You can find a [list of examples](./examples/index.html) and [detailed API documentation](/api/index.html) on this site.\n",
    "\n",
    "Note the above method installs the latest 'release' version of summer, but that this documentation is based on the current Github master version of summer, which may contain new features or changes to the API. \n",
    "To install summer directly from Github, use the following command instead\n",
    "\n",
    "```bash\n",
    "pip install git+https://github.com/monash-emu/summer.git\n",
    "```\n",
    "\n",
    "## Quick Example Model\n",
    "\n",
    "This is a short example on how summer can be used. See the [list of examples](./examples/index.html) for more."
   ]
  },
  {
   "cell_type": "code",
   "execution_count": null,
   "metadata": {
    "tags": []
   },
   "outputs": [],
   "source": [
    "import matplotlib.pyplot as plt\r\n",
    "\r\n",
    "from summer import CompartmentalModel\r\n",
    "\r\n",
    "# Create a model.\r\n",
    "model = CompartmentalModel(\r\n",
    "    times=[1990, 2025],\r\n",
    "    compartments=[\"S\", \"I\", \"R\"],\r\n",
    "    infectious_compartments=[\"I\"],\r\n",
    "    timestep=0.1,\r\n",
    ")\r\n",
    "\r\n",
    "# Add people to the model.\r\n",
    "model.set_initial_population(distribution={\"S\": 1000, \"I\": 10})\r\n",
    "\r\n",
    "# Add intercompartmental flows.\r\n",
    "model.add_infection_frequency_flow(name=\"infection\", contact_rate=1.2, source=\"S\", dest=\"I\")\r\n",
    "model.add_transition_flow(name=\"recovery\", fractional_rate=1/6, source=\"I\", dest=\"R\")\r\n",
    "model.add_death_flow(name=\"infection_death\", death_rate=0.5, source=\"I\")\r\n",
    "\r\n",
    "# Spice up the model by importing 500 infected people over the course of 2010.\r\n",
    "def get_infected_imports(t, cv=None):\r\n",
    "    return 500 if 2010 < t <= 2011 else 0\r\n",
    "model.add_importation_flow('infected_imports', get_infected_imports, 'I')\r\n",
    "\r\n",
    "# Run the model\r\n",
    "model.run()\r\n",
    "\r\n",
    "# Plot the model results.\r\n",
    "fig, ax = plt.subplots(1, 1, figsize=(12, 6), dpi=120)\r\n",
    "for i in range(model.outputs.shape[1]):\r\n",
    "    ax.plot(model.times, model.outputs.T[i])\r\n",
    "\r\n",
    "ax.set_title(\"SIR Model Outputs\")\r\n",
    "ax.set_xlabel(\"Year\")\r\n",
    "ax.set_ylabel(\"Compartment size\")\r\n",
    "ax.legend([\"S\", \"I\", \"R\"])\r\n",
    "plt.show()\r\n"
   ]
  },
  {
   "cell_type": "code",
   "execution_count": null,
   "metadata": {},
   "outputs": [],
   "source": []
  }
 ],
 "metadata": {
  "interpreter": {
   "hash": "c1e1924619185674a370a1ee117571daa81709dee989e73fcb61e2f904b8f122"
  },
  "kernelspec": {
   "display_name": "Python 3.6.13 64-bit ('summer': conda)",
   "name": "python3"
  },
  "language_info": {
   "codemirror_mode": {
    "name": "ipython",
    "version": 3
   },
   "file_extension": ".py",
   "mimetype": "text/x-python",
   "name": "python",
   "nbconvert_exporter": "python",
   "pygments_lexer": "ipython3",
   "version": "3.6.13"
  }
 },
 "nbformat": 4,
 "nbformat_minor": 2
}
