{
 "cells": [
  {
   "cell_type": "markdown",
   "metadata": {},
   "source": [
    "# Basic model introduction\n",
    "\n",
    "This page introduces the processes for building and running a simple compartmental disease model with _summer_.\n",
    "In the following example, we will create an SIR compartmental model for a general, unspecified emerging infectious disease spreading through a fully susceptible population.\n",
    "The objective of this notebook is to introduce the _summer_ interface that we will use throughout this series of notebooks,\n",
    "and to use it to demonstrate the construction of a simple model.\n",
    "We will then use this simple model to demonstrate some basic principles of infectious disease modelling,\n",
    "although there are several principles and model features that we will come back to in subsequent notebooks.\n",
    "\n",
    "In this model there will be:\n",
    "\n",
    "- Three compartments: susceptible, infected and recovered\n",
    "- A starting population of 1000 people, with 10 of them infected (and infectious)\n",
    "- An evaluation timespan from day zero to 20 units of time\n",
    "- Inter-compartmental flows for infection, deaths and recovery\n",
    "\n",
    "Let's look at a complete example of this model in action, and then examine the details of each step.\n",
    "This is the complete example model that we will be working with.\n",
    "As with any Python script, we first have to import the objects we need,\n",
    "plus we'll set the visualisation of pandas objects to be interactive."
   ]
  },
  {
   "cell_type": "code",
   "execution_count": null,
   "metadata": {},
   "outputs": [],
   "source": [
    "# If we are running in google colab, pip install the required packages, \n",
    "# but do not modify local environments\n",
    "try:\n",
    "  import google.colab\n",
    "  IN_COLAB = True\n",
    "  %pip install summerepi\n",
    "except:\n",
    "  IN_COLAB = False"
   ]
  },
  {
   "cell_type": "code",
   "execution_count": null,
   "metadata": {},
   "outputs": [],
   "source": [
    "import pandas as pd\n",
    "import numpy as np\n",
    "import matplotlib.pyplot as plt\n",
    "from typing import Dict\n",
    "\n",
    "from summer import CompartmentalModel\n",
    "from summer.parameters import Parameter as param\n",
    "\n",
    "pd.options.plotting.backend = \"plotly\""
   ]
  },
  {
   "cell_type": "markdown",
   "metadata": {},
   "source": [
    "First, let's create a function that gives us a base SIR model with the\n",
    "basic compartments, starting populations and inter-compartmental flows implemented."
   ]
  },
  {
   "cell_type": "code",
   "execution_count": null,
   "metadata": {},
   "outputs": [],
   "source": [
    "def get_base_sir_model() -> CompartmentalModel:\n",
    "    \"\"\"\n",
    "    Generate an instance of an SIR model with some standard parameters, \n",
    "    population distribution and parameters hard-coded.\n",
    "    \n",
    "    Returns:\n",
    "        The summer model object\n",
    "    \"\"\"\n",
    "    compartments = (\n",
    "        \"susceptible\",\n",
    "        \"infectious\",\n",
    "        \"recovered\",\n",
    "    )\n",
    "    analysis_times = (0, 20)\n",
    "    \n",
    "    model = CompartmentalModel(\n",
    "        times=analysis_times,\n",
    "        compartments=compartments,\n",
    "        infectious_compartments=[\"infectious\"],\n",
    "    )\n",
    "    model.set_initial_population(\n",
    "        distribution={\"susceptible\": 990, \"infectious\": 10}\n",
    "    )\n",
    "    model.add_infection_frequency_flow(\n",
    "        name=\"infection\", \n",
    "        contact_rate=1.,\n",
    "        source=\"susceptible\", \n",
    "        dest=\"infectious\",\n",
    "    )\n",
    "    model.add_transition_flow(\n",
    "        name=\"recovery\", \n",
    "        fractional_rate=0.333,\n",
    "        source=\"infectious\", \n",
    "        dest=\"recovered\",\n",
    "    )\n",
    "    model.add_death_flow(\n",
    "        name=\"infection_death\", \n",
    "        death_rate=0.05,\n",
    "        source=\"infectious\",\n",
    "    )\n",
    "    return model"
   ]
  },
  {
   "cell_type": "markdown",
   "metadata": {},
   "source": [
    "## Building the model\n",
    "In this simple example model, we have written instructions for how to create a compartmental model object that consists of three compartments.\n",
    "We have then provided a period of time over which we will analyse the model.\n",
    "(We can think of these as days, but the time unit is arbitrary as far as the model is concerned.)\n",
    "We have then identified the compartment named \"infectious\" as the compartment that will contribute to the force of infection.\n",
    "Next we have distributed the starting popuation across two of the compartments\n",
    "(with the unnamed compartment, \"recovered\", not receiving any starting population).\n",
    "Next we have introduced an infection frequency flow that transitions people from the susceptible to the infectious compartment.\n",
    "Last, we have introduced some fixed flow rates that transition people from the infectious compartment to the recovered compartment,\n",
    "and a fixed transition flow that removes people from the model to represent death.\n",
    "The specifics of how these flows work will be discussed in notebook 3."
   ]
  },
  {
   "cell_type": "markdown",
   "metadata": {},
   "source": [
    "## Using the function to build the model\n",
    "Then use the function to get an instance of this model,\n",
    "run it and have a look at the compartment size progression over time.\n",
    "Note that we use the plotting functions built-in to pandas objects to do this.\n",
    "Pandas is a very widely used library for data processing, which we will use extensively in this series.\n",
    "Because there may be considerable data wrangling necessary for our model outputs after we have run our model,\n",
    "we prefer use external libraries for this sort of processing.\n",
    "This is because these analysis stages have very few features that is specific to infectious diseases modelling,\n",
    "such that it is preferable to use well-developed external libraries.\n",
    "Libraries like pandas have several advantages, including extensive code documentation,\n",
    "availability of online help (e.g. through forums such as Stack Overflow),\n",
    "and methods to support data processing.\n",
    "Here we use pandas easy integration with _plotly_ to create an interactive plot from the pandas\n",
    "object in a single line of code.\n",
    "(Note that this could easily be set to other output formats,\n",
    "e.g. by setting the pandas plotting backend to _matplotlib_ above.)"
   ]
  },
  {
   "cell_type": "code",
   "execution_count": null,
   "metadata": {},
   "outputs": [],
   "source": [
    "base_model = get_base_sir_model()  # Get the model object\n",
    "base_model.run()  # Run it\n",
    "compartment_values = base_model.get_outputs_df()  # Access the outputs as a pandas dataframe\n",
    "compartment_values.plot()  # Plot"
   ]
  },
  {
   "cell_type": "markdown",
   "metadata": {},
   "source": [
    "However, we can do this slightly better,\n",
    "by asking the model object to **_expect_** certain parameters,\n",
    "which we define as parameter objects,\n",
    "but don't give values yet.\n",
    "We'll come back to why this is worth doing later,\n",
    "but for now let's just say it is the preferred approach.\n",
    "While we're at it, we'll also make the times and starting\n",
    "population values part of the inputs to this function,\n",
    "even though they go into the model object just as values."
   ]
  },
  {
   "cell_type": "code",
   "execution_count": null,
   "metadata": {},
   "outputs": [],
   "source": [
    "def get_param_aware_sir_model(\n",
    "    parameters: Dict,\n",
    ") -> CompartmentalModel:\n",
    "    \"\"\"\n",
    "    Generate an instance of an SIR model that is expecting parameter values to be provided\n",
    "    for the transition rates and some other features.\n",
    "    \n",
    "    Args:\n",
    "        parameters: The parameter values to be used in running the model\n",
    "    Returns:\n",
    "        The summer model object\n",
    "    \"\"\"\n",
    "    \n",
    "    # Define the \n",
    "    compartments = (\n",
    "        \"susceptible\",\n",
    "        \"infectious\",\n",
    "        \"recovered\",\n",
    "    )\n",
    "    infectious_compartment = [\n",
    "        \"infectious\",\n",
    "    ]\n",
    "    analysis_times = (\n",
    "        parameters[\"start_time\"], \n",
    "        parameters[\"end_time\"]\n",
    "    )\n",
    "\n",
    "    model = CompartmentalModel(\n",
    "        times=analysis_times,\n",
    "        compartments=compartments,\n",
    "        infectious_compartments=infectious_compartment,\n",
    "        takes_params=True,\n",
    "    )\n",
    "    \n",
    "    # Check and assign infectious seed\n",
    "    pop = parameters[\"population\"]\n",
    "    seed = parameters[\"seed\"]\n",
    "    suscept_pop = pop - seed\n",
    "    msg = \"Seed larger than population\"\n",
    "    assert pop >= 0., msg\n",
    "    \n",
    "    model.set_initial_population(\n",
    "        distribution={\n",
    "            \"susceptible\": suscept_pop, \n",
    "            \"infectious\": seed}\n",
    "    )\n",
    "    \n",
    "    # Add a frequency-dependent transmission flow\n",
    "    model.add_infection_frequency_flow(\n",
    "        name=\"infection\", \n",
    "        contact_rate=param(\"contact_rate\"), \n",
    "        source=\"susceptible\", \n",
    "        dest=\"infectious\",\n",
    "    )\n",
    "    \n",
    "    # Add a constant recovery flow\n",
    "    model.add_transition_flow(\n",
    "        name=\"recovery\", \n",
    "        fractional_rate=param(\"recovery_rate\"), \n",
    "        source=\"infectious\", \n",
    "        dest=\"recovered\",\n",
    "    )\n",
    "    \n",
    "    # Add a constant infection-related death rate\n",
    "    model.add_death_flow(\n",
    "        name=\"infection_death\", \n",
    "        death_rate=param(\"death_rate\"), \n",
    "        source=\"infectious\",\n",
    "    )\n",
    "    return model"
   ]
  },
  {
   "cell_type": "markdown",
   "metadata": {},
   "source": [
    "Now let's use that function, specifying our parameters all in one go\n",
    "and feeding them into the model object when we're ready to run it."
   ]
  },
  {
   "cell_type": "code",
   "execution_count": null,
   "metadata": {},
   "outputs": [],
   "source": [
    "parameters = {\n",
    "    \"contact_rate\": 1.,\n",
    "    \"recovery_rate\": 0.333,\n",
    "    \"death_rate\": 0.05,\n",
    "    \"population\": 1000.,\n",
    "    \"seed\": 10.,\n",
    "    \"start_time\": 0.,\n",
    "    \"end_time\": 20.,\n",
    "}\n",
    "\n",
    "param_aware_model = get_param_aware_sir_model(parameters)\n",
    "param_aware_model.run(parameters=parameters)\n",
    "compartment_values = param_aware_model.get_outputs_df()\n",
    "compartment_values.plot()"
   ]
  },
  {
   "cell_type": "markdown",
   "metadata": {},
   "source": [
    "## Digging into the model object\n",
    "Now that we have our [`CompartmentalModel`](/api/model.html) object,\n",
    "we can use this structure to inspect some aspects of what is going on under the surface,\n",
    "for example, compartments, flows and others attributes.\n",
    "This is **_highly recommended_**, \n",
    "to ensure that the model you have created is consistent with what you were wanting.\n",
    "Try out using tab complete in this notebook to inspect the range of methods and\n",
    "attributes that are available for a `CompartmentalModel` object."
   ]
  },
  {
   "cell_type": "code",
   "execution_count": null,
   "metadata": {},
   "outputs": [],
   "source": [
    "print(param_aware_model.compartments)\n",
    "print(param_aware_model.initial_population)\n",
    "print(param_aware_model.times)\n",
    "print(compartment_values)"
   ]
  },
  {
   "cell_type": "markdown",
   "metadata": {},
   "source": [
    "## Epidemiological messages\n",
    "This is clearly a very simple model of an epidemic caused by a short-lived pathogen that induces complete immunity in its host.\n",
    "However, despite its simplicity, it does capture a surprising number of the actual features of an epidemic caused by an infection\n",
    "of this type.\n",
    "In general, models of infectious diseases transmission should be as complicated as they need to be,\n",
    "which means that the additional complexity that we might need to inject into this model is highly dependent on the purpose that\n",
    "we will be using it for - or the epidemiological question that we will be addressing through our analysis.\n",
    "It may also be dependent on us having sufficient epidemiological understanding of the epidemic to be able to incorporate these\n",
    "features with a reasonable level of confidence that we are actually capturing the processes that we are interested in\n",
    "(including empiric data to estimate the parameters that we need to build our more complicated model).\n",
    "\n",
    "Let's think of some of the epidemiological features that this very simple model **_does_** capture:\n",
    "- Very broadly, this model does give us the shape that epi curves often follow - looking vaguely like a bell\n",
    "- There is an exponential growth phase when the population remains largely susceptible\n",
    "- The growth in the epidemic decreases as the proportion of susceptibles decreases\n",
    "- As the effective reproduction number falls past one, the epidemic peaks and begins to decline\n",
    "- The epidemic dies out as the susceptibles decrease and the effective reproduction number drops below one\n",
    "- As the epidemic ends and transmission declines to approximately zero, susceptibles are depleted, but not completely - a proportion of the population remains susceptible even after the epidemic\n",
    "\n",
    "Let's think of some of the epidemiological features that this model **_does not_** capture:\n",
    "- Any heterogeneity in the background population with regards progression through infection states after exposure\n",
    "- Any heterogeneity in transmission, such as greater transmission to people within the population with similar characteristics\n",
    "- Any heterogeneity in the pathogen, such as multiple strains with different characteristics circulating through the population\n",
    "- Any changes in how people transition through their stages over time that might be induced through changes external to the model\n",
    "(i.e. other than those related to the changes in the population distribution across compartments resulting from transmission of this immunising pathogen)\n",
    "- Tracking any outputs other than the sizes of the model's compartments\n",
    "\n",
    "We will return to these features and how to elaborate our base model to capture them over the following notebooks."
   ]
  },
  {
   "cell_type": "markdown",
   "metadata": {
    "jp-MarkdownHeadingCollapsed": true,
    "tags": []
   },
   "source": [
    "## Summary\n",
    "\n",
    "That's it for now, now you know how to:\n",
    "\n",
    "- Create a model\n",
    "- Assing the starting population\n",
    "- The syntax for adding flows (although we'll come back to what these mean)\n",
    "- Run the model\n",
    "- Access and visualise the outputs\n",
    "\n",
    "A detailed API reference for the `CompartmentalModel` class can be found [here](http://summerepi.com/api/model.html)"
   ]
  }
 ],
 "metadata": {
  "kernelspec": {
   "display_name": "Python 3 (ipykernel)",
   "language": "python",
   "name": "python3"
  },
  "language_info": {
   "codemirror_mode": {
    "name": "ipython",
    "version": 3
   },
   "file_extension": ".py",
   "mimetype": "text/x-python",
   "name": "python",
   "nbconvert_exporter": "python",
   "pygments_lexer": "ipython3",
   "version": "3.10.4"
  },
  "vscode": {
   "interpreter": {
    "hash": "7afc08b952f75bca94590012dd49682c815a0fa68720c270ce23d7ae27bf110a"
   }
  }
 },
 "nbformat": 4,
 "nbformat_minor": 4
}
