{
 "cells": [
  {
   "cell_type": "code",
   "execution_count": null,
   "id": "75a4fa2a-6424-41a1-8476-f861dd1fae92",
   "metadata": {},
   "outputs": [],
   "source": [
    "import numpy as np\n",
    "import pandas as pd\n",
    "\n",
    "pd.options.plotting.backend = \"plotly\""
   ]
  },
  {
   "cell_type": "code",
   "execution_count": null,
   "id": "12d8c29f-c905-4b63-b018-ae55e5cbb76a",
   "metadata": {},
   "outputs": [],
   "source": [
    "parameters = {\n",
    "    \"contact_rate\": 1.,\n",
    "    \"recovery_rate\": 0.333,\n",
    "    \"death_rate\": 0.05,\n",
    "    \"population\": 1000.,\n",
    "    \"seed\": 10.,\n",
    "    \"start_time\": 0.,\n",
    "    \"end_time\": 20.,\n",
    "}"
   ]
  },
  {
   "cell_type": "markdown",
   "id": "6de900ae-96fe-41c5-bf44-5d6d823bf716",
   "metadata": {
    "tags": []
   },
   "source": [
    "## Checking how the model works inside\n",
    "\n",
    "This section presents some code that shows an approximation of what is happening inside the model we just built and ran.\n",
    "This is a sanity check that the outputs look as we would expect if we had coded this manually,\n",
    "and is intended to provide some insight into what is going on under the surface.\n",
    "\n",
    "In the example code below we use the [Euler method](https://en.wikipedia.org/wiki/Euler_method) to solve an ordinary differential equation (ODE) which is defined by the model's flows. We don't typically use Euler in _summer_ though, you can read more about the actual ODE solvers available to evaluate models [here](http://summerepi.com/examples/4-ode-solvers.html)."
   ]
  },
  {
   "cell_type": "code",
   "execution_count": null,
   "id": "d4c1f36a-8ac5-4438-a586-b821832b50ab",
   "metadata": {},
   "outputs": [],
   "source": [
    "TIMESTEP = 0.1\n",
    "START_TIME = 0\n",
    "END_TIME = 20\n",
    "\n",
    "# Get times\n",
    "time_period = END_TIME - START_TIME + 1\n",
    "num_steps = time_period / TIMESTEP\n",
    "times = np.linspace(START_TIME, END_TIME, num=int(num_steps))\n",
    "\n",
    "# Define initial conditions and prepare for outputs\n",
    "initial_conditions = np.array(\n",
    "    [\n",
    "        parameters[\"population\"] - parameters[\"seed\"], \n",
    "        parameters[\"seed\"],\n",
    "        0.\n",
    "    ]\n",
    ")\n",
    "outputs = np.zeros((int(num_steps), 3))\n",
    "outputs[0] = initial_conditions\n",
    "\n",
    "# Model parameters\n",
    "contact_rate = parameters[\"contact_rate\"]\n",
    "recovery_rate = parameters[\"recovery_rate\"]\n",
    "death_rate = parameters[\"death_rate\"]\n",
    "\n",
    "# Calculate outputs for each timestep\n",
    "for t_idx, t in enumerate(times):\n",
    "    if t_idx == 0:\n",
    "        continue\n",
    "\n",
    "    # Get some useful quantities that we'll need later\n",
    "    flow_rates = np.zeros(3)\n",
    "    compartment_sizes = outputs[t_idx - 1]\n",
    "    num_sus = compartment_sizes[0]\n",
    "    num_inf = compartment_sizes[1]\n",
    "    num_pop = compartment_sizes.sum()\n",
    "    \n",
    "    # Apply the infection process\n",
    "    force_of_infection = contact_rate * num_inf / num_pop  # Frequency-dependent\n",
    "    infection_flow_rate = force_of_infection * num_sus\n",
    "    flow_rates[0] -= infection_flow_rate\n",
    "    flow_rates[1] += infection_flow_rate\n",
    "\n",
    "    # Infectious take some time to recover\n",
    "    num_inf = compartment_sizes[1]\n",
    "    recovery_flow_rate = recovery_rate * num_inf\n",
    "    flow_rates[1] -= recovery_flow_rate\n",
    "    flow_rates[2] += recovery_flow_rate\n",
    "    \n",
    "    # Add an infection-specific death flow to the I compartment\n",
    "    num_inf = compartment_sizes[1]\n",
    "    death_flow_rate = num_inf * death_rate\n",
    "    flow_rates[1] -= death_flow_rate\n",
    "    \n",
    "    # Calculate compartment sizes at next timestep given flowrates\n",
    "    outputs[t_idx] = compartment_sizes + flow_rates * TIMESTEP  \n",
    "    \n",
    "compartments = (\n",
    "    \"susceptible\",\n",
    "    \"infectious\",\n",
    "    \"recovered\",\n",
    ")\n",
    "outputs_df = pd.DataFrame(outputs, columns=compartments)\n",
    "outputs_df.plot()"
   ]
  }
 ],
 "metadata": {
  "kernelspec": {
   "display_name": "Python 3 (ipykernel)",
   "language": "python",
   "name": "python3"
  },
  "language_info": {
   "codemirror_mode": {
    "name": "ipython",
    "version": 3
   },
   "file_extension": ".py",
   "mimetype": "text/x-python",
   "name": "python",
   "nbconvert_exporter": "python",
   "pygments_lexer": "ipython3",
   "version": "3.10.4"
  }
 },
 "nbformat": 4,
 "nbformat_minor": 5
}
