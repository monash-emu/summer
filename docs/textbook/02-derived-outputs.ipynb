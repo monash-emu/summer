{
 "cells": [
  {
   "cell_type": "markdown",
   "id": "necessary-institution",
   "metadata": {},
   "source": [
    "# Calculating derived outputs\n",
    "\n",
    "In the [previous notebook](/textbook/01-basic-model.html), we saw how to create and run a simple compartmental model.\n",
    "\n",
    "This notebook builds on this to show how to request more detailed outputs from the model, in addition to just the compartment sizes. _summer_ supports the calculation of \"derived outputs\" - these are additional outputs that can be calculated from either:\n",
    "\n",
    "- The model compartment sizes for each timestep; or\n",
    "- The model flow rates at each timestep\n",
    "\n",
    "In epidemiology, we often want to estimate outputs from our models that are not just the absolute size of the individual explicitly modelled compartments or states.\n",
    "These quantities are not compartment sizes, but rather the absolute (not per capita) rate of transition between one state and another.\n",
    "Although such quantities may be part of the calculation that is used to update the population distribution from one time step to the next,\n",
    "these transition rates are not generally tracked during the numeric integration process.\n",
    "In epidemiology, one of the clearest examples of the need for this is the need to understand \"incident\" as well as \"prevalent\" quantities.\n",
    "Compartment sizes or the ratios of compartment sizes to the total population or to other quantities only provide us with information on the prevalence\n",
    "or relative prevalence of certain states within the overall population,\n",
    "and even these prevalent quantities may be more complicated than just the total number of people in a single compartment.\n",
    "\n",
    "To extend the range of outputs that can be estimated from a _summer_ model object, there are several different types of derived outputs that are supported:\n",
    "\n",
    "- **[Flow output](/api/model.html#summer.model.CompartmentalModel.request_output_for_flow)**: A sum of one or more flow rates at each timestep\n",
    "- **[Compartment output](/api/model.html#summer.model.CompartmentalModel.request_output_for_compartments)**: A sum of one or more compartment sizes at each timestep\n",
    "- **[Aggregate output](/api/model.html#summer.model.CompartmentalModel.request_aggregate_output)**: An aggregate of other derived outputs\n",
    "- **[Cumulative output](/api/model.html#summer.model.CompartmentalModel.request_cumulative_output)**: A cumulative sum of another derived output\n",
    "- **[Function output](/api/model.html#summer.model.CompartmentalModel.request_function_output)**: A pure function of other derived outputs\n",
    "\n",
    "As usual, let's start with our import statements."
   ]
  },
  {
   "cell_type": "code",
   "execution_count": null,
   "id": "524ee60f-d0b7-41dd-97e5-33be0ced0c1e",
   "metadata": {},
   "outputs": [],
   "source": [
    "import numpy as np\n",
    "import pandas as pd\n",
    "import matplotlib.pyplot as plt\n",
    "\n",
    "from summer import CompartmentalModel\n",
    "\n",
    "pd.options.plotting.backend = \"plotly\""
   ]
  },
  {
   "cell_type": "markdown",
   "id": "ce75117f-bc69-4102-96f2-ad58d74f78a1",
   "metadata": {},
   "source": [
    "Then let's generate a simple model, exactly was we did in the previous notebook."
   ]
  },
  {
   "cell_type": "code",
   "execution_count": null,
   "id": "chemical-earthquake",
   "metadata": {},
   "outputs": [],
   "source": [
    "def get_base_sir_model():\n",
    "    \"\"\"\n",
    "    Generate an instance of an SIR model with some fixed parameters, \n",
    "    population distribution and parameters.\n",
    "    \n",
    "    Returns:\n",
    "        model: The SIR compartmental model\n",
    "    \"\"\"\n",
    "    compartments = (\n",
    "        \"susceptible\",\n",
    "        \"infectious\",\n",
    "        \"recovered\",\n",
    "    )\n",
    "    analysis_times = (0, 20)\n",
    "    \n",
    "    model = CompartmentalModel(\n",
    "        times=analysis_times,\n",
    "        compartments=compartments,\n",
    "        infectious_compartments=[\"infectious\"],\n",
    "    )\n",
    "    model.set_initial_population(\n",
    "        distribution={\"susceptible\": 990, \"infectious\": 10}\n",
    "    )\n",
    "    model.add_infection_frequency_flow(\n",
    "        name=\"infection\", \n",
    "        contact_rate=1.,\n",
    "        source=\"susceptible\", \n",
    "        dest=\"infectious\",\n",
    "    )\n",
    "    model.add_transition_flow(\n",
    "        name=\"recovery\", \n",
    "        fractional_rate=0.333,\n",
    "        source=\"infectious\", \n",
    "        dest=\"recovered\",\n",
    "    )\n",
    "    model.add_death_flow(\n",
    "        name=\"infection_death\", \n",
    "        death_rate=0.05,\n",
    "        source=\"infectious\",\n",
    "    )\n",
    "    return model"
   ]
  },
  {
   "cell_type": "markdown",
   "id": "ignored-wrong",
   "metadata": {},
   "source": [
    "As previously, this can easily be run and the compartment sizes plotted."
   ]
  },
  {
   "cell_type": "code",
   "execution_count": null,
   "id": "19c7101b-1422-4815-9705-a266426d17dd",
   "metadata": {},
   "outputs": [],
   "source": [
    "sir_model = get_base_sir_model()\n",
    "sir_model.run()\n",
    "compartment_values = sir_model.get_outputs_df()\n",
    "compartment_values.plot()"
   ]
  },
  {
   "cell_type": "markdown",
   "id": "a0890d7e-421a-451c-93b6-4d6c510775c3",
   "metadata": {},
   "source": [
    "Next let's look at the various types of derived outputs supported by _summer_."
   ]
  },
  {
   "cell_type": "markdown",
   "id": "curious-decision",
   "metadata": {},
   "source": [
    "## Compartment outputs\n",
    "\n",
    "A **[compartment output](/model.html#summer.model.CompartmentalModel.request_output_for_compartments)** tracks the sum of one or more compartments at each timestep. These requests can also select compartments for particular strata in a stratified model, as demonstrated in later notebooks."
   ]
  },
  {
   "cell_type": "code",
   "execution_count": null,
   "id": "preceding-tactics",
   "metadata": {},
   "outputs": [],
   "source": [
    "base_model = get_base_sir_model()\n",
    "\n",
    "# Request that the infectious and recovered compartment sizes are combined into 'ever_infected'\n",
    "base_model.request_output_for_compartments(\n",
    "    name=\"ever_infected\", \n",
    "    compartments=[\"infectious\", \"recovered\"]\n",
    ")\n",
    "\n",
    "base_model.run()\n",
    "derived_outputs = base_model.get_derived_outputs_df()\n",
    "derived_outputs.plot()"
   ]
  },
  {
   "cell_type": "markdown",
   "id": "alternative-williams",
   "metadata": {},
   "source": [
    "## Flow outputs\n",
    "\n",
    "A **[flow output](/api/model.html#summer.model.CompartmentalModel.request_output_for_flow)** tracks a set of requested flow rates for each timestep. These requests can also select flows between particular strata in a stratified model (see later examples).\n",
    "For example, we might want to ask the model to track the number of people who died from infection per timestep. Note that this is not represented by any of the explicitly modelled states."
   ]
  },
  {
   "cell_type": "code",
   "execution_count": null,
   "id": "referenced-luther",
   "metadata": {},
   "outputs": [],
   "source": [
    "sir_model = get_base_sir_model()\n",
    "\n",
    "# Request that the model calculate a derived output when it is run\n",
    "sir_model.request_output_for_flow(\n",
    "    name=\"deaths\", \n",
    "    flow_name=\"infection_death\"\n",
    ")"
   ]
  },
  {
   "cell_type": "markdown",
   "id": "satellite-sunday",
   "metadata": {},
   "source": [
    "Now when we run the model, we can obtain a pandas dataframe representing the new infection-related daily deaths that can be accessed through `model.get_derived_outputs_df`, as follows."
   ]
  },
  {
   "cell_type": "code",
   "execution_count": null,
   "id": "acquired-trick",
   "metadata": {},
   "outputs": [],
   "source": [
    "# Run the model\n",
    "sir_model.run()\n",
    "\n",
    "# View the derived outputs that were calculated when the `run()` method was called\n",
    "modelled_deaths = sir_model.get_derived_outputs_df()\n",
    "modelled_deaths.plot()"
   ]
  },
  {
   "cell_type": "markdown",
   "id": "5b1c844a-beb1-490a-a4b8-5246d1681c0e",
   "metadata": {},
   "source": [
    "### Distinguishing incidence from infection\n",
    "Let's build a new model that incorporates an explicit delay between infection and later progression or activation to the infectious compartment.\n",
    "Because we still only allow that the compartment called \"_infectious_\" is actually infectious (contributes to the force of infection calculation),\n",
    "we therefore have a delay between the process of being infected by someone else and progressing to become infectious yourself."
   ]
  },
  {
   "cell_type": "code",
   "execution_count": null,
   "id": "bfbbc613-9775-4485-912b-e34fa53aa75f",
   "metadata": {},
   "outputs": [],
   "source": [
    "def get_base_seir_model():\n",
    "    \"\"\"\n",
    "    An adaptation of the SIR model introduced above, with a couple of\n",
    "    small differences to turn it into an SEIR model.\n",
    "    Generate an instance of an SEIR model with some fixed parameters, \n",
    "    population distribution and parameters.\n",
    "    \n",
    "    Returns:\n",
    "        model: The SEIR compartmental model\n",
    "    \"\"\"\n",
    "    compartments = (\n",
    "        \"susceptible\",\n",
    "        \"exposed\",\n",
    "        \"infectious\",\n",
    "        \"recovered\",\n",
    "    )\n",
    "    analysis_times = (0, 20)\n",
    "    \n",
    "    model = CompartmentalModel(\n",
    "        times=analysis_times,\n",
    "        compartments=compartments,\n",
    "        infectious_compartments=[\"infectious\"],\n",
    "    )\n",
    "    model.set_initial_population(\n",
    "        distribution={\"susceptible\": 990, \"infectious\": 10}\n",
    "    )\n",
    "    model.add_infection_frequency_flow(\n",
    "        name=\"infection\", \n",
    "        contact_rate=1.,\n",
    "        source=\"susceptible\", \n",
    "        dest=\"exposed\",  # This is different from the SIR model\n",
    "    )\n",
    "    # This flow didn't exist in the SIR model\n",
    "    model.add_transition_flow(\n",
    "        name=\"progression\",\n",
    "        fractional_rate=0.333,\n",
    "        source=\"exposed\",\n",
    "        dest=\"infectious\",\n",
    "    )\n",
    "    model.add_transition_flow(\n",
    "        name=\"recovery\", \n",
    "        fractional_rate=0.333,\n",
    "        source=\"infectious\", \n",
    "        dest=\"recovered\",\n",
    "    )\n",
    "    model.add_death_flow(\n",
    "        name=\"infection_death\", \n",
    "        death_rate=0.05,\n",
    "        source=\"infectious\",\n",
    "    )\n",
    "    return model"
   ]
  },
  {
   "cell_type": "markdown",
   "id": "aedce7e1-3358-4bc5-acd6-77fbd54ce54d",
   "metadata": {},
   "source": [
    "Let's track these transitions (infection and progression) explicitly.\n",
    "The process of infection is intuitive, but let's refer to the process of progressing from the \n",
    "exposed to the infectious compartment as \"incidence\",\n",
    "because it represents the rate at which new disease episodes occur."
   ]
  },
  {
   "cell_type": "code",
   "execution_count": null,
   "id": "f880f09c-19a8-4a8a-ba00-15b93840003e",
   "metadata": {},
   "outputs": [],
   "source": [
    "seir_model = get_base_seir_model()\n",
    "\n",
    "seir_model.request_output_for_flow(\n",
    "    name=\"infection\",\n",
    "    flow_name=\"infection\",\n",
    ")\n",
    "seir_model.request_output_for_flow(\n",
    "    name=\"incidence\", \n",
    "    flow_name=\"progression\",\n",
    ")"
   ]
  },
  {
   "cell_type": "markdown",
   "id": "cedf2719-05b1-4088-a6ef-d35f1dfb7e77",
   "metadata": {},
   "source": [
    "Looks like these quantities are pretty similar, but not identical, in this model.\n",
    "This is consistent with what we would expect.\n",
    "The delay from individuals being infected to progressing to active disease\n",
    "is directly reflected in the delay in the changes in the infection and incidence quantities."
   ]
  },
  {
   "cell_type": "code",
   "execution_count": null,
   "id": "b914ee77-3c5d-4479-adb7-64a63b4ce41a",
   "metadata": {},
   "outputs": [],
   "source": [
    "seir_model.run()\n",
    "derived_outputs = seir_model.get_derived_outputs_df()\n",
    "derived_outputs.plot()"
   ]
  },
  {
   "cell_type": "markdown",
   "id": "bored-elder",
   "metadata": {},
   "source": [
    "## Cumulative outputs\n",
    "\n",
    "You can use a  **[cumulative output](/model.html#summer.model.CompartmentalModel.request_cumulative_output)** to request that the model tracks the cumulative sum of other derived outputs over time. For example, let's track total infection deaths and the total people recovered:"
   ]
  },
  {
   "cell_type": "code",
   "execution_count": null,
   "id": "interracial-wells",
   "metadata": {},
   "outputs": [],
   "source": [
    "model = build_base_sir_model()\n",
    "model.request_output_for_flow(name=\"deaths\", flow_name=\"infection_death\")\n",
    "\n",
    "# Request that the 'deaths' derived output is accumulated into 'deaths_cumulative'.\n",
    "model.request_cumulative_output(name=\"deaths_cumulative\", source=\"deaths\")\n",
    "\n",
    "model.run()\n",
    "plot_output(model, \"deaths_cumulative\", \"Cumulative infection deaths\")"
   ]
  },
  {
   "cell_type": "markdown",
   "id": "behind-percentage",
   "metadata": {},
   "source": [
    "## Aggregate outputs\n",
    "\n",
    "You can use an **[aggregate output](/model.html#summer.model.CompartmentalModel.request_aggregate_output)** to request an aggregate of other derived outputs."
   ]
  },
  {
   "cell_type": "code",
   "execution_count": null,
   "id": "typical-paragraph",
   "metadata": {},
   "outputs": [],
   "source": [
    "model = build_model()\n",
    "\n",
    "# Track some flows.\n",
    "model.request_output_for_flow(name=\"deaths\", flow_name=\"infection_death\")\n",
    "model.request_output_for_flow(name=\"recoveries\", flow_name=\"recovery\")\n",
    "\n",
    "# Accumulate the flows.\n",
    "model.request_cumulative_output(name=\"deaths_cumulative\", source=\"deaths\")\n",
    "model.request_cumulative_output(name=\"recoveries_cumulative\", source=\"recoveries\")\n",
    "\n",
    "# Aggregate 'deaths_cumulative' and 'recovered_cumulative' into a single output.\n",
    "model.request_aggregate_output(\n",
    "    name=\"dead_or_recovered_cumulative\",\n",
    "    sources=[\"deaths_cumulative\", \"recoveries_cumulative\"]\n",
    ")\n",
    "\n",
    "model.run()\n",
    "plot_output(model, \"dead_or_recovered_cumulative\", \"Cumulative dead or recovered\")\n",
    "# (In this simple model, this could be also easily be tracked as the complement of the the susceptible population.)"
   ]
  },
  {
   "cell_type": "markdown",
   "id": "activated-teach",
   "metadata": {},
   "source": [
    "## Function outputs\n",
    "\n",
    "You can use **[function outputs](/model.html#summer.model.CompartmentalModel.request_function_output)** to calculate outputs with a user-defined function. This function takes the requested sources (NumPy arrays) as inputs and should return a NumPy array of the same size.\n",
    "\n",
    "For example, here we request a calculation that gets us the prevalence of the disease."
   ]
  },
  {
   "cell_type": "code",
   "execution_count": null,
   "id": "vital-yacht",
   "metadata": {},
   "outputs": [],
   "source": [
    "model = build_model()\n",
    "\n",
    "# Track the number of infectious people as a derived output.\n",
    "# Here we use `save_results=False` because we don't need to use this later.\n",
    "model.request_output_for_compartments(name=\"count_infectious\", compartments=[\"I\"], save_results=False)\n",
    "\n",
    "# Track the total population as a derived output.\n",
    "model.request_output_for_compartments(name=\"total_population\", compartments=[\"S\", \"R\"], save_results=False)\n",
    "\n",
    "# Define a function that we will use to calculate prevalence.\n",
    "# The arguments (infectious, total) will be NumPy arrays.\n",
    "def get_prevalence(infectious, total):\n",
    "    return infectious / total\n",
    "\n",
    "# Request a function output, using `get_prevalence`.\n",
    "# The sources will map to the function arguments.\n",
    "model.request_function_output(\n",
    "    name=\"prevalence\",\n",
    "    sources=[\"count_infectious\", \"total_population\"],\n",
    "    func=get_prevalence,\n",
    ")\n",
    "\n",
    "model.run()\n",
    "plot_output(model, \"prevalence\", \"Prevalence of disease\")"
   ]
  },
  {
   "cell_type": "markdown",
   "id": "responsible-reality",
   "metadata": {},
   "source": [
    "## Summary\n",
    "\n",
    "That's it for now, now you know how to:\n",
    "\n",
    "- Request derived outputs\n",
    "- Chain and combine derived outputs\n",
    "- Access and visualize the derived outputs\n",
    "\n",
    "A detailed API reference of the CompartmentalModel class can be found [here](http://summerepi.com/api/model.html)"
   ]
  }
 ],
 "metadata": {
  "kernelspec": {
   "display_name": "Python 3 (ipykernel)",
   "language": "python",
   "name": "python3"
  },
  "language_info": {
   "codemirror_mode": {
    "name": "ipython",
    "version": 3
   },
   "file_extension": ".py",
   "mimetype": "text/x-python",
   "name": "python",
   "nbconvert_exporter": "python",
   "pygments_lexer": "ipython3",
   "version": "3.10.4"
  }
 },
 "nbformat": 4,
 "nbformat_minor": 5
}
