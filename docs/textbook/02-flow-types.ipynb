{
 "cells": [
  {
   "cell_type": "markdown",
   "id": "ignored-international",
   "metadata": {},
   "source": [
    "# Flow types\n",
    "\n",
    "In the [previous notebook](https://github.com/monash-emu/summer/blob/master/docs/textbook/01-basic-model.ipynb), we introduced our general approach to creating and running a simple compartmental model of the transmission of an acute immunising infection. This basic model had only three compartments, which were linked together by two transition flows, with one additional flow through which the population simulated could exit the system (deaths). However, there are many epidemiological issues to consider when adding flows to the compartmental structure, and many different types of flow we might want to apply to our compartments.\n",
    "\n",
    "_summer_'s [CompartmentalModel](http://summerepi.com/api/model.html) class offers a variety of intercompartmental flows that can be used to define the dynamics of a model. These consist of:\n",
    "\n",
    "- [Transition flow](#Transition-flow) ([docs](http://summerepi.com/api/model.html#summer.model.CompartmentalModel.add_transition_flow))\n",
    "- [Infection density flow](#Infection-density-flow) ([docs](http://summerepi.com/api/model.html#summer.model.CompartmentalModel.add_infection_density_flow))\n",
    "- [Infection frequency flow](#Infection-frequency-flow) ([docs](http://summerepi.com/api/model.html#summer.model.CompartmentalModel.add_infection_frequency_flow))\n",
    "- [Death flow](#Death-flow) ([docs](http://summerepi.com/api/model.html#summer.model.CompartmentalModel.add_death_flow))\n",
    "- [Universal death flows](#Universal-death-flow) ([docs](http://summerepi.com/api/model.html#summer.model.CompartmentalModel.add_universal_death_flows))\n",
    "- [Crude birth flow](#Crude-birth-flow) ([docs](http://summerepi.com/api/model.html#summer.model.CompartmentalModel.add_crude_birth_flow))\n",
    "- [Importation flow](#Importation-flow) ([docs](http://summerepi.com/api/model.html#summer.model.CompartmentalModel.add_importation_flow))\n",
    "- [Replacement birth flow](#Replacement-birth-flow) ([docs](http://summerepi.com/api/model.html#summer.model.CompartmentalModel.add_replacement_birth_flow))\n",
    "- [Function flow](#Function-flow) ([docs](http://summerepi.com/api/model.html#summer.model.CompartmentalModel.add_function_flow))\n",
    " \n",
    "First let's define some utility functions to help with the example below."
   ]
  },
  {
   "cell_type": "code",
   "execution_count": null,
   "id": "77ed8145-1ecd-4394-8ef7-736e4ef3d372",
   "metadata": {},
   "outputs": [],
   "source": [
    "try:\n",
    "  import google.colab\n",
    "  IN_COLAB = True\n",
    "  %pip install summerepi\n",
    "except:\n",
    "  IN_COLAB = False"
   ]
  },
  {
   "cell_type": "code",
   "execution_count": null,
   "id": "2946a555-12e0-41dd-b69a-ba578ef09f06",
   "metadata": {},
   "outputs": [],
   "source": [
    "import pandas as pd\n",
    "import numpy as np\n",
    "from typing import Dict\n",
    "\n",
    "from summer import CompartmentalModel\n",
    "from summer.parameters import Parameter as param\n",
    "\n",
    "pd.options.plotting.backend = \"plotly\""
   ]
  },
  {
   "cell_type": "code",
   "execution_count": null,
   "id": "1e0c7760-4297-484c-8352-cc8fbb5abc23",
   "metadata": {},
   "outputs": [],
   "source": [
    "def get_base_model(parameters: Dict) -> CompartmentalModel:\n",
    "    \"\"\"\n",
    "    Generate an instance of a very simple two-compartment model that allows transition\n",
    "    from one of the two states to the other through a single flow linking them, \n",
    "    population distribution and parameters hard-coded.\n",
    "    \n",
    "    Returns:\n",
    "        The summer model object\n",
    "    \"\"\"\n",
    "    compartments = (\n",
    "        \"healthy\",\n",
    "        \"diseased\",\n",
    "    )\n",
    "    analysis_times = (0, 20)\n",
    "    \n",
    "    model = CompartmentalModel(\n",
    "        times=analysis_times,\n",
    "        compartments=compartments,\n",
    "        infectious_compartments=[],\n",
    "    )\n",
    "    model.set_initial_population(\n",
    "        distribution={\"healthy\": 1.}\n",
    "    )\n",
    "    model.add_transition_flow(\n",
    "        \"onset\", \n",
    "        fractional_rate=param(\"onset_rate\"), \n",
    "        source=\"healthy\", \n",
    "        dest=\"diseased\"\n",
    "    )\n",
    "    return model"
   ]
  },
  {
   "cell_type": "markdown",
   "id": "annual-purse",
   "metadata": {},
   "source": [
    "## Transition flow\n",
    "\n",
    "With this type of flow, people in the source compartment transition to the destination compartment at a _per capita_ rate defined by the flow's parameter.\n",
    "By \"_per capita_\" we mean that the rate of this flow is calculated as the product of the parameter value assigned to the flow rate\n",
    "and the size of the population in the source compartment.\n",
    "\n",
    "The mean time an individual would spend in the source compartment (or \"sojourn time\") can then be thought of as the reciprocal of the flow rate,\n",
    "**_if_** there are no other competing flows.\n",
    "By competing flows, we mean flows that have the same source compartment.\n",
    "Where multiple flows share a common source compartment, the sojourn time is the reciprocal of the sum of the outflows from that compartment.\n",
    "\n",
    "In the example below, we will add a progression flow called \"onset\" where the average time to developing disease is 0.1 time units.\n",
    "This can be thought of as the mean time to disease onset for someone in the healthy category as being 10 time units.\n",
    "(However, note that this does not imply that half of the population will have progressed from the healthy category after ten time units.)"
   ]
  },
  {
   "cell_type": "code",
   "execution_count": null,
   "id": "sealed-fight",
   "metadata": {},
   "outputs": [],
   "source": [
    "parameters = {\n",
    "    \"population\": 1.,\n",
    "    \"onset_rate\": 0.1,\n",
    "}\n",
    "\n",
    "transition_model = get_base_model(parameters)\n",
    "\n",
    "transition_model.run(parameters=parameters)\n",
    "compartment_values = transition_model.get_outputs_df()\n",
    "compartment_values.plot()"
   ]
  },
  {
   "cell_type": "markdown",
   "id": "stable-james",
   "metadata": {},
   "source": [
    "## Time varying parameters (transition flow)\n",
    "\n",
    "The rate at which people transition can be set as a constant, or it can be defined as a function of time. This is the case of **all of the flows**: every parameter can be a constant _or_ a function of time.\n",
    "Parameters also take a 'computed_values' argument, which is a dictionary of values computed at runtime that is not specific to any individual flow.  Older versions of summer do not include the computed values argument, and it is a good idea to provide a default of None for functions in which this argument is not used (ie depend solely on time)."
   ]
  },
  {
   "cell_type": "code",
   "execution_count": null,
   "id": "binding-template",
   "metadata": {},
   "outputs": [],
   "source": [
    "# model = build_model()\n",
    "# model.set_initial_population(distribution={\"S\": 0, \"I\": 1000})\n",
    "\n",
    "# def recovery_rate(time, computed_values):\n",
    "#     \"\"\"\n",
    "#     Returns the recovery rate for a given time.\n",
    "#     People recover faster after day ten due to a magic drug.\n",
    "#     \"\"\"\n",
    "#     if time < 10:\n",
    "#         return 0.1\n",
    "#     else:\n",
    "#         return 0.4\n",
    "    \n",
    "    \n",
    "# # Add a recovery flow where 10% of the source recover per time unit.\n",
    "# model.add_transition_flow(\"recovery\", recovery_rate, \"I\", \"R\")\n",
    "\n",
    "# # Use Runge-Kutta 4 solver to better capture sharp discontinuity.\n",
    "# model.run(solver=\"rk4\")\n",
    "# plot_compartments(model, times=[10])"
   ]
  },
  {
   "cell_type": "markdown",
   "id": "traditional-christopher",
   "metadata": {
    "tags": []
   },
   "source": [
    "## Infection frequency flow\n",
    "\n",
    "Let's return to the world of infectious diseases modelling and consider an SIR model,\n",
    "like the one we introduced in the first notebook (but even simpler, without the death flow)."
   ]
  },
  {
   "cell_type": "code",
   "execution_count": null,
   "id": "d1ada3bb-3dda-4e55-86e1-9d334426f847",
   "metadata": {},
   "outputs": [],
   "source": [
    "def get_sir_model(\n",
    "    parameters: Dict,\n",
    ") -> CompartmentalModel:\n",
    "    \"\"\"\n",
    "    Generate an instance of an SIR model with just one fixed transition rate,\n",
    "    and a frequency-dependent infection process.\n",
    "    \n",
    "    Args:\n",
    "        parameters: The parameter values to be used in running the model\n",
    "    Returns:\n",
    "        The summer model object\n",
    "    \"\"\"\n",
    "    \n",
    "    # Define the \n",
    "    compartments = (\n",
    "        \"susceptible\",\n",
    "        \"infectious\",\n",
    "        \"recovered\",\n",
    "    )\n",
    "    infectious_compartment = [\n",
    "        \"infectious\",\n",
    "    ]\n",
    "    analysis_times = (\n",
    "        parameters[\"start_time\"], \n",
    "        parameters[\"end_time\"]\n",
    "    )\n",
    "\n",
    "    model = CompartmentalModel(\n",
    "        times=analysis_times,\n",
    "        compartments=compartments,\n",
    "        infectious_compartments=infectious_compartment,\n",
    "        takes_params=True,\n",
    "    )\n",
    "    \n",
    "    # Check and assign infectious seed\n",
    "    pop = parameters[\"population\"]\n",
    "    seed = parameters[\"seed\"]\n",
    "    suscept_pop = pop - seed\n",
    "    msg = \"Seed larger than population\"\n",
    "    assert pop >= 0., msg\n",
    "    \n",
    "    model.set_initial_population(\n",
    "        distribution={\n",
    "            \"susceptible\": suscept_pop, \n",
    "            \"infectious\": seed}\n",
    "    )\n",
    "    \n",
    "    # Add the frequency-dependent transmission flow\n",
    "    model.add_infection_frequency_flow(\n",
    "        name=\"infection\", \n",
    "        contact_rate=param(\"contact_rate\"), \n",
    "        source=\"susceptible\", \n",
    "        dest=\"infectious\",\n",
    "    )\n",
    "    \n",
    "    # Add a constant recovery flow (like the transition flow introduced above)\n",
    "    model.add_transition_flow(\n",
    "        name=\"recovery\", \n",
    "        fractional_rate=param(\"recovery_rate\"), \n",
    "        source=\"infectious\", \n",
    "        dest=\"recovered\",\n",
    "    )\n",
    "    \n",
    "    return model"
   ]
  },
  {
   "cell_type": "markdown",
   "id": "8d5c46a5-0757-40b6-8eb7-730b75d5db3b",
   "metadata": {},
   "source": [
    "### Frequency-dependent transmission\n",
    "This flow can be used to model infections using frequency-dependent disease transmission.\n",
    "\n",
    "In simple models like these (without adjustments of infectious status or other stratification features), \n",
    "the frequency-dependent infection flow rate (the number of people infected per time unit) can be thought of as:\n",
    "\n",
    "```python\n",
    "# contact_rate: Rate at which effective contact occurs\n",
    "# num_source: Number of people in the (susceptible) source compartment\n",
    "# num_infectious: Number of in the infectious compartment(s)\n",
    "# num_pop: Total number of people in the population\n",
    "force_of_infection = contact_rate * num_infectious / num_pop\n",
    "flow_rate = force_of_infection * num_source\n",
    "```\n",
    "\n",
    "First note that once we have calculated the force of infection,\n",
    "we multiply this by the size of the source compartment\n",
    "(which we will often refer to as the susceptible population).\n",
    "So the force of infection can be thought of in a similar way to the parameter we apply in a transition flow.\n",
    "That is, the _per capita_ rate of transition from the source to the destination compartment.\n",
    "\n",
    "In order to calculate the force of infection, we have a parameter (`contact_rate`)\n",
    "and the proportion (prevalence) of infectious persons in the population\n",
    "(represented by the last two terms).\n",
    "\n",
    "Substituting the force of infection formula into the formula for the flow rate and reordering, we can see that:\n",
    "```python\n",
    "flow_rate = contact_rate * num_infectious * num_source / num_pop\n",
    "```\n",
    "Here the last two terms of the equation together represent the proportion of the total population that is susceptible.\n",
    "Given that only contacts with susceptible people will result in transmission,\n",
    "the remaining proportion will be \"wasted\" from the perspective of the pathogen.\n",
    "\n",
    "Therefore, this formula can be thought of as the number of infectious persons in the system,\n",
    "multiplied by the proportion of their contacts that are with susceptible persons,\n",
    "multiplied by some parameter.\n",
    "Given this understanding, the parameter can be thought of as the per unit time rate at which\n",
    "an infectious person comes into contact with other people in the population in such a way as it would result in transmission if that person was susceptible.\n",
    "This quantity is often referred to as the \"effective contact rate\",\n",
    "because it is the daily number of people that a member of this population will come into contact with other members of the population in such a way as it would result in transmission if the contact was between an infectious and a susceptible person."
   ]
  },
  {
   "cell_type": "code",
   "execution_count": null,
   "id": "e85510af-927f-4536-ad88-58f7cc477b5e",
   "metadata": {},
   "outputs": [],
   "source": [
    "parameters = {\n",
    "    \"contact_rate\": 1.,\n",
    "    \"recovery_rate\": 0.333,\n",
    "    \"population\": 1000.,\n",
    "    \"seed\": 10.,\n",
    "    \"start_time\": 0.,\n",
    "    \"end_time\": 20.,\n",
    "}\n",
    "\n",
    "param_aware_model = get_sir_model(parameters)\n",
    "param_aware_model.run(parameters=parameters)\n",
    "compartment_values = param_aware_model.get_outputs_df()\n",
    "compartment_values.plot()"
   ]
  },
  {
   "cell_type": "markdown",
   "id": "medium-devil",
   "metadata": {},
   "source": [
    "## Infection density flow\n",
    "\n",
    "This flow can be used to model infections using density-dependent disease transmission (as opposed to frequency dependent). This [article](https://parasiteecology.wordpress.com/2013/10/17/density-dependent-vs-frequency-dependent-disease-transmission/) may be helpful in understanding the difference between the two methods.\n",
    "\n",
    "In unstratified models, the density-dependent infection flow rate (people infected per time unit) is calculated as:\n",
    "\n",
    "```python\n",
    "# contact_rate: Rate at which effective contact happens between two individuals, i.e. contact that would result in transmission were it to occur between a susceptible and an infectious person\n",
    "# num_source: Number of people in the (susceptible) source compartment\n",
    "# num_infectious: Number of people infectious\n",
    "force_of_infection = contact_rate * num_infectious\n",
    "flow_rate = force_of_infection * num_source\n",
    "```"
   ]
  },
  {
   "cell_type": "code",
   "execution_count": null,
   "id": "subject-thursday",
   "metadata": {},
   "outputs": [],
   "source": [
    "model = build_model()\n",
    "model.set_initial_population(distribution={\"S\": 990, \"I\": 10})\n",
    "\n",
    "# Add a density dependent infection flow\n",
    "model.add_infection_density_flow(\"infection\", contact_rate=1e-3, source=\"S\", dest=\"I\")\n",
    "\n",
    "model.run()\n",
    "plot_compartments(model)"
   ]
  },
  {
   "cell_type": "markdown",
   "id": "baking-technology",
   "metadata": {},
   "source": [
    "## Death flow\n",
    "\n",
    "With a death flow, some percent of people in a user-selected source compartment die and leave the system every time unit."
   ]
  },
  {
   "cell_type": "code",
   "execution_count": null,
   "id": "impaired-assignment",
   "metadata": {},
   "outputs": [],
   "source": [
    "model = build_model()\n",
    "model.set_initial_population(distribution={\"S\": 1000, \"I\": 1000})\n",
    "\n",
    "# 3% of the infected population die per day due to the infection.\n",
    "model.add_death_flow(\"infection_death\", death_rate=0.03, source=\"I\")\n",
    "\n",
    "# 1% of the susceptible population die per day due to tiger attacks. \n",
    "model.add_death_flow(\"tiger_death\", death_rate=0.01, source=\"S\")\n",
    "\n",
    "model.run()\n",
    "plot_compartments(model)"
   ]
  },
  {
   "cell_type": "markdown",
   "id": "banner-medline",
   "metadata": {},
   "source": [
    "## Universal death flow\n",
    "\n",
    "Adding \"universal deaths\" is a convenient way to set up a death flow for every compartment, which can account for non-disease mortality (heart disease and getting hit by a bus). This is functionally the same as manually adding a death flow for every compartment. You can adjust the universal death rate for particlar strata later during the stratification process (e.g. age-based mortality)."
   ]
  },
  {
   "cell_type": "code",
   "execution_count": null,
   "id": "regulation-grave",
   "metadata": {},
   "outputs": [],
   "source": [
    "model = build_model()\n",
    "model.set_initial_population(distribution={\"S\": 700, \"I\": 200, \"R\": 100})\n",
    "\n",
    "# 2% of the population die per day for non-infection-related reasons.\n",
    "model.add_universal_death_flows(\"universal_death\", death_rate=0.02)\n",
    "\n",
    "model.run()\n",
    "plot_compartments(model)"
   ]
  },
  {
   "cell_type": "markdown",
   "id": "falling-georgia",
   "metadata": {},
   "source": [
    "## Crude birth flow\n",
    "\n",
    "Some percentage of the total population are born into the destination compartment every time unit."
   ]
  },
  {
   "cell_type": "code",
   "execution_count": null,
   "id": "downtown-project",
   "metadata": {},
   "outputs": [],
   "source": [
    "model = build_model()\n",
    "model.set_initial_population(distribution={\"S\": 700, \"I\": 600, \"R\": 500})\n",
    "\n",
    "# 5% of the total population per day are born as susceptible.\n",
    "model.add_crude_birth_flow(\"birth\", birth_rate=0.05, dest=\"S\")\n",
    "\n",
    "model.run()\n",
    "plot_compartments(model)"
   ]
  },
  {
   "cell_type": "markdown",
   "id": "sporting-reduction",
   "metadata": {},
   "source": [
    "## Importation flow\n",
    "\n",
    "An absolute number of people arrive in the destination per time unit. This can be used to model arrivals from outside of the modelled region.\n",
    "\n",
    "Note that 'split_imports' determines whether this number is split over the existing destination compartments (True), or the full number of people sent to each (False).  In this example the behaviour is the same (since the flows are to a single compartment), but for stratified models, this can be an important distinction - we will cover this in more detail in the Stratification notebook."
   ]
  },
  {
   "cell_type": "code",
   "execution_count": null,
   "id": "competent-violence",
   "metadata": {},
   "outputs": [],
   "source": [
    "model = build_model()\n",
    "model.set_initial_population(distribution={\"S\": 700, \"I\": 600, \"R\": 500})\n",
    "\n",
    "# 12 susceptible people arrive per year.\n",
    "model.add_importation_flow(\"imports\", num_imported=12, dest=\"S\", split_imports=True)\n",
    "\n",
    "# 6 infected people arrive per year.\n",
    "model.add_importation_flow(\"imports\", num_imported=6, dest=\"I\", split_imports=True)\n",
    "\n",
    "model.run()\n",
    "plot_compartments(model)"
   ]
  },
  {
   "cell_type": "markdown",
   "id": "powerful-arabic",
   "metadata": {},
   "source": [
    "## Replacement birth flow\n",
    "\n",
    "Add a flow to replace the number of deaths into the destination compartment. This means the total population should be conserved over time."
   ]
  },
  {
   "cell_type": "code",
   "execution_count": null,
   "id": "permanent-investing",
   "metadata": {},
   "outputs": [],
   "source": [
    "model = build_model()\n",
    "model.set_initial_population(distribution={\"S\": 650, \"I\": 600, \"R\": 0})\n",
    "\n",
    "# 5% of the infected population die per year due to infection.\n",
    "model.add_death_flow(\"infection_death\", death_rate=0.05, source=\"I\")\n",
    "\n",
    "# The infected people who have died arrive back in the susceptible compartment.\n",
    "model.add_replacement_birth_flow(\"births\", dest=\"S\")\n",
    "\n",
    "model.run()\n",
    "plot_compartments(model)"
   ]
  },
  {
   "cell_type": "markdown",
   "id": "furnished-doctrine",
   "metadata": {},
   "source": [
    "## Function flow\n",
    "\n",
    "A function flow gives you more control over how a flow should work. This is when you need to include more complex behaviour in your model which cannot be expressed using the built-in flows above."
   ]
  },
  {
   "cell_type": "code",
   "execution_count": null,
   "id": "later-rotation",
   "metadata": {},
   "outputs": [],
   "source": [
    "model = build_model()\n",
    "model.set_initial_population(distribution={\"S\": 650, \"I\": 100, \"R\": 0})\n",
    "\n",
    "def get_vaccination_flow_rate(flow, comp_names, comp_vals, flows, flow_rates, derived_values, time):\n",
    "    \"\"\"\n",
    "    Returns the flow-rate of susceptible people who get vaccinated and become recovered.\n",
    "    \n",
    "    Args:\n",
    "        flow: The flow object being run\n",
    "        comp_names: List of compartment names (Compartment)\n",
    "        comp_vals: Array of compartment values at this timestep\n",
    "        flows: List of flow objects (used to calculate flow rates)\n",
    "        flow_rates: Calculated flow rate for each non-function flow at this timestep\n",
    "        time: Current timestep\n",
    "    \n",
    "    Returns: The flow rate (float)\n",
    "    \"\"\"\n",
    "    if time < 5:\n",
    "        # Vaccinate 10 people per day until day 5\n",
    "        return 10\n",
    "    elif 5 < time < 15:\n",
    "        # Vaccinate 5% of the total population per day until day 15\n",
    "        return 0.05 * comp_vals.sum()\n",
    "    else:\n",
    "        # After day 15 stop vaccinations, because we ran out of money\n",
    "        return 0\n",
    "    \n",
    "\n",
    "# Use a custom function to model vaccinations\n",
    "model.add_function_flow(\"vacinnation\", flow_rate_func=get_vaccination_flow_rate, source=\"S\", dest=\"R\")\n",
    "\n",
    "# Use Runge-Kutta 4 solver to better capture sharp discontinuity.\n",
    "model.run(solver=\"rk4\")\n",
    "plot_compartments(model, times=[0, 20])"
   ]
  },
  {
   "cell_type": "markdown",
   "id": "metropolitan-chambers",
   "metadata": {},
   "source": [
    "## Summary\n",
    "\n",
    "That's it for now, now you know how to use all the flow types available in summer to define the dynamics of your compartmental model. In future examples you will see how to use these flows in a stratified model.\n",
    "\n",
    "A detailed API reference of the CompartmentalModel class can be found [here](http://summerepi.com/api/model.html)"
   ]
  }
 ],
 "metadata": {
  "interpreter": {
   "hash": "c1e1924619185674a370a1ee117571daa81709dee989e73fcb61e2f904b8f122"
  },
  "kernelspec": {
   "display_name": "Python 3 (ipykernel)",
   "language": "python",
   "name": "python3"
  },
  "language_info": {
   "codemirror_mode": {
    "name": "ipython",
    "version": 3
   },
   "file_extension": ".py",
   "mimetype": "text/x-python",
   "name": "python",
   "nbconvert_exporter": "python",
   "pygments_lexer": "ipython3",
   "version": "3.10.4"
  }
 },
 "nbformat": 4,
 "nbformat_minor": 5
}
