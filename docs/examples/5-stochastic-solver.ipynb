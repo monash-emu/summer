{
 "cells": [
  {
   "cell_type": "markdown",
   "id": "agreed-split",
   "metadata": {},
   "source": [
    "# Running a model in stochastic mode\n",
    "\n",
    "[CompartmentalModel](/api/model.html) runs are deterministic, because the ODE solvers we use are deterministic. For a given set of compartments and (deterministic) flows, the outputs will always be the same.\n",
    "\n",
    "These deterministic models work better in scenarios where there is a large population and the law of large numbers has a strong effect.\n",
    "\n",
    "Sometimes, however, we want to simulate scenarios where some compartments have very low numbers of people. For example, we might consider a case where only 1-3 people are infected/infectious. The the deterministic ODE-based approach can produce absurd results such as \"half a person is infected\" and does not capture the underlying randomness of this scenario. To address this issue, there is a stochastic approach that can be used instead of the deterministic, ODE-based appproach. You can read the details of how it is calulated [here](https://autumn-files.s3-ap-southeast-2.amazonaws.com/Switching_to_stochastic_mode.pdf).\n",
    "\n",
    "To summarise the linked explanation:\n",
    "\n",
    "- Flow rates are interpreted as probabilities\n",
    "- Transition and exit flows are sampled from a multinomial distribution\n",
    "- Entry flows are sampled from a Poisson distribution\n",
    "\n",
    "To achieve this practically, you can run the model with `model.run_stochastic()` instead of `model.run()`.\n",
    "\n",
    "See below for an example. First, let's define a function to build our model:"
   ]
  },
  {
   "cell_type": "code",
   "execution_count": null,
   "id": "partial-filename",
   "metadata": {},
   "outputs": [],
   "source": [
    "from summer import CompartmentalModel\n",
    "\n",
    "\n",
    "def build_model(timestep, infectious_seed) -> CompartmentalModel:\n",
    "    \"\"\"\n",
    "    Returns the SIR model, ready to run.\n",
    "    \"\"\"\n",
    "    model = CompartmentalModel(\n",
    "        times=[1990, 2020],\n",
    "        compartments=[\"S\", \"I\", \"R\"],\n",
    "        infectious_compartments=[\"I\"],\n",
    "        timestep=timestep,\n",
    "    )\n",
    "    # Add 1000 susceptible people + some infectious people.\n",
    "    model.set_initial_population(distribution={\"S\": 1000, \"I\": infectious_seed})\n",
    "\n",
    "    # Add flows between the compartments.\n",
    "    # Susceptible people get infected - contact rate is an arbitrary number.\n",
    "    model.add_infection_frequency_flow(name=\"infection\", contact_rate=2, source=\"S\", dest=\"I\")\n",
    "    # Infectious people take 2 years, on average, to recover.\n",
    "    model.add_sojourn_flow(name=\"recovery\", sojourn_time=2, source=\"I\", dest=\"R\")\n",
    "    # Add an infection-specific death flow to the I compartment.\n",
    "    model.add_death_flow(name=\"infection_death\", death_rate=0.05, source=\"I\")\n",
    "    return model"
   ]
  },
  {
   "cell_type": "markdown",
   "id": "joint-publication",
   "metadata": {},
   "source": [
    "## Runing the stochastic version side by side with the ODE-based version\n",
    "\n",
    "Here you can see the results of a stochastic model compared to a ODE-based model.\n",
    "\n",
    "A technical point to note: \n",
    "\n",
    "- The ODE-based model **does not** use the `timestep` parameter to perform the integration, rather it uses a timestep that is passed to the `model.run()` method, or an adaptive timstep. The timestep defined during model construction is only used for interpolating the results. So the results are not very sensitive to changes in the requested timestep.\n",
    "- The stochastic method **does** use the `timestep` parameter for running the integration, and the results are sensitive to the changes in the timestep."
   ]
  },
  {
   "cell_type": "code",
   "execution_count": null,
   "id": "portable-costume",
   "metadata": {},
   "outputs": [],
   "source": [
    "from matplotlib import pyplot\n",
    "\n",
    "# Build and run the deterministic, ODE-based model.\n",
    "model_ode = build_model(timestep=0.1, infectious_seed=20)\n",
    "model_ode.run()\n",
    "\n",
    "# Build and run the stochastic model.\n",
    "model_st = build_model(timestep=0.1, infectious_seed=20)\n",
    "model_st.run_stochastic()\n",
    "\n",
    "# Plot the results for both.\n",
    "pyplot.style.use(\"ggplot\")\n",
    "fig, (ax1, ax2) = pyplot.subplots(1, 2, figsize=(15, 5), dpi=100)\n",
    "for ax, model, name in [(ax1, model_ode, \"ODE\"), (ax2, model_st, \"Stochastic\")]:\n",
    "    values = {str(c): v for c, v in zip(model.compartments, model.outputs.T)}\n",
    "    ax.set_title(name)\n",
    "    ax.set_xlabel(\"Times\")\n",
    "    for plot_vals in values.values():\n",
    "        ax.plot(model.times, plot_vals)\n",
    "        \n",
    "    ax.legend(list(values.keys()), loc=\"center right\")"
   ]
  },
  {
   "cell_type": "markdown",
   "id": "classical-defeat",
   "metadata": {},
   "source": [
    "## Simulating disease extinction with the stochastic model\n",
    "\n",
    "Because the stochastic model deals with a discrete, rather than continuous, number of people, we can simulate the number of infected people going to 0, rather than 1/25th of a person. "
   ]
  },
  {
   "cell_type": "code",
   "execution_count": null,
   "id": "deluxe-radio",
   "metadata": {},
   "outputs": [],
   "source": [
    "NUM_TRIALS = 500\n",
    "\n",
    "def simulate_extinction(timestep, infectious_seed):\n",
    "    # Create a model.\n",
    "    model = build_model(timestep, infectious_seed)\n",
    "\n",
    "    # Run the model many times\n",
    "    extinct_times = []  # Track when the number of infections goes to zero.\n",
    "    infected_timeseries = []  # Track number of infections over time. \n",
    "    for i in range(NUM_TRIALS):\n",
    "        # Run the model\n",
    "        model.run_stochastic()\n",
    "        infected = model.outputs[:, 1].T\n",
    "        infected_timeseries.append([model.times, infected])\n",
    "        # Determine when infections went to zero. \n",
    "        for s,t in zip(infected, model.times):\n",
    "            if s == 0:\n",
    "                extinct_times.append(t)\n",
    "                break\n",
    "\n",
    "    # Plot timeseries.\n",
    "    fig, ax = pyplot.subplots(1, 1, figsize=(15, 5), dpi=100)\n",
    "    ax.set_title(\"Number of infected people\")\n",
    "    ax.set_xlabel(\"Time\")\n",
    "    for t, v in infected_timeseries:           \n",
    "        ax.plot(t, v, alpha=0.3)\n",
    "\n",
    "    # Plot number of simulated extinctions per year.\n",
    "    fig, ax = pyplot.subplots(1, 1, figsize=(15, 5), dpi=100)\n",
    "    ax.set_title(\"Number of extinctions\")\n",
    "    ax.set_xlabel(\"Time\")\n",
    "    ax.hist(extinct_times, bins=range(1990, 2026))\n"
   ]
  },
  {
   "cell_type": "markdown",
   "id": "reasonable-lewis",
   "metadata": {},
   "source": [
    "Here we simulate 1000 trials where we started with 1 infected person, who could die or recover before they infect anyone else. As you can see below, the disease dies out in ~20-30% of cases."
   ]
  },
  {
   "cell_type": "code",
   "execution_count": null,
   "id": "clinical-fashion",
   "metadata": {},
   "outputs": [],
   "source": [
    "simulate_extinction(timestep=0.1, infectious_seed=1)"
   ]
  },
  {
   "cell_type": "markdown",
   "id": "virtual-surveillance",
   "metadata": {},
   "source": [
    "Note that increasing the chosen timestep will reduce the probability that the disease will die out."
   ]
  },
  {
   "cell_type": "code",
   "execution_count": null,
   "id": "previous-greensboro",
   "metadata": {},
   "outputs": [],
   "source": [
    "simulate_extinction(timestep=1, infectious_seed=1)"
   ]
  },
  {
   "cell_type": "markdown",
   "id": "careful-keeping",
   "metadata": {},
   "source": [
    "Increasing the number of initially infectious people will also reduce the chance that the disease will die out."
   ]
  },
  {
   "cell_type": "code",
   "execution_count": null,
   "id": "divided-consent",
   "metadata": {},
   "outputs": [],
   "source": [
    "simulate_extinction(timestep=0.1, infectious_seed=2)"
   ]
  }
 ],
 "metadata": {
  "kernelspec": {
   "display_name": "Python 3",
   "language": "python",
   "name": "python3"
  },
  "language_info": {
   "codemirror_mode": {
    "name": "ipython",
    "version": 3
   },
   "file_extension": ".py",
   "mimetype": "text/x-python",
   "name": "python",
   "nbconvert_exporter": "python",
   "pygments_lexer": "ipython3",
   "version": "3.6.13"
  }
 },
 "nbformat": 4,
 "nbformat_minor": 5
}
