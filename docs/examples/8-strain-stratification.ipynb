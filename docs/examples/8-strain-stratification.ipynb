{
 "cells": [
  {
   "cell_type": "markdown",
   "id": "obvious-radio",
   "metadata": {},
   "source": [
    "# Strain stratification\n",
    "\n",
    "Summer provides a special disease-strain stratification class ([StrainStratification](http://summerepi.com/api/stratification.html#summer.stratification.StrainStratification)) that treats each strata as a separate disease strain. This will allow you to model multiple strains of a disease (or multiple diseases) which are able to infect people separately.\n",
    "\n",
    "They key difference between StrainStratification vs. a normal Stratification is that the strain stratification adjusts the count of infectious people per strain. For example, in a normal stratification with an age-based split into 'young' and 'old' you will have frequency-dependent infection flows calculated as follows:\n",
    "\n",
    "```python\n",
    "# Find a common force of infection for both young and old\n",
    "num_infected = num_old_infected + num_young_infected\n",
    "force_of_infection = contact_rate * num_infected / num_pop\n",
    "\n",
    "# Use that common force of infection to get flow rates for young/old infection \n",
    "infect_rate_young = force_of_infection * num_young_susceptible\n",
    "infect_rate_old = force_of_infection * num_old_susceptible\n",
    "```\n",
    "\n",
    "Consider now how this will be calculated for two strains (\"mild\" and \"wild\") when applied to an unstratified susceptible compartment:\n",
    "\n",
    "```python\n",
    "# Find a different force of infection for mild and wild\n",
    "force_of_infection_mild = contact_rate * num_infected_mild / num_pop\n",
    "force_of_infection_wild = contact_rate * num_infected_wild / num_pop\n",
    "\n",
    "# Use the different force of infection values to get flow rates for mild/wild infection \n",
    "infect_rate_mild = force_of_infection_mild * num_susceptible\n",
    "infect_rate_wild = force_of_infection_wild * num_susceptible\n",
    "```\n",
    "\n",
    "Let's work through a code example. For starters, let's create an SIR model:"
   ]
  },
  {
   "cell_type": "code",
   "execution_count": null,
   "id": "british-puzzle",
   "metadata": {},
   "outputs": [],
   "source": [
    "import numpy as np\n",
    "import matplotlib.pyplot as plt\n",
    "from summer import CompartmentalModel\n",
    "\n",
    "def build_model():\n",
    "    \"\"\"Returns a model for the stratification examples\"\"\"\n",
    "    model = CompartmentalModel(\n",
    "        times=[1990, 2010],\n",
    "        compartments=[\"S\", \"I\", \"R\"],\n",
    "        infectious_compartments=[\"I\"],\n",
    "        timestep=0.1,\n",
    "    )\n",
    "\n",
    "    # Add people to the model\n",
    "    model.set_initial_population(distribution={\"S\": 990, \"I\": 10})\n",
    "\n",
    "    # Susceptible people can get infected.\n",
    "    model.add_infection_frequency_flow(name=\"infection\", contact_rate=2, source=\"S\", dest=\"I\")\n",
    "\n",
    "    # Infectious people take 3 years, on average, to recover.\n",
    "    model.add_sojourn_flow(name=\"recovery\", sojourn_time=3, source=\"I\", dest=\"R\")\n",
    "\n",
    "    # Add an infection-specific death flow to the I compartment.\n",
    "    model.add_death_flow(name=\"infection_death\", death_rate=0.05, source=\"I\")\n",
    "    return model\n",
    "\n",
    "    \n",
    "def plot_compartments(model):\n",
    "    \"\"\"Plot model compartment sizes over time\"\"\"\n",
    "    fig, ax = plt.subplots(1, 1, figsize=(12, 6), dpi=120)\n",
    "    for i in range(model.outputs.shape[1]):\n",
    "        ax.plot(model.times, model.outputs.T[i])\n",
    "        \n",
    "    ax.set_title(\"SIR Model Outputs\")\n",
    "    ax.set_xlabel(\"Year\")\n",
    "    ax.set_ylabel(\"Compartment size\")\n",
    "    start, end = ax.get_xlim()\n",
    "    ax.xaxis.set_ticks(np.arange(start + 1, end, 5))\n",
    "    ax.legend([str(c) for c in model.compartments], loc='upper right')\n",
    "    plt.show()\n",
    "    print('Compartment names:', model.compartments)\n",
    "    print('Initial values:', model.outputs[0])\n",
    "    print('Final values:', model.outputs[-1])\n",
    "\n",
    "# Force NumPy to format output arrays nicely. \n",
    "np.set_printoptions(formatter={'all': lambda f: f\"{f:0.2f}\"})"
   ]
  },
  {
   "cell_type": "markdown",
   "id": "regulated-blend",
   "metadata": {},
   "source": [
    "Lets see what this model looks like without any stratifications:"
   ]
  },
  {
   "cell_type": "code",
   "execution_count": null,
   "id": "fluid-gnome",
   "metadata": {},
   "outputs": [],
   "source": [
    "model = build_model()\n",
    "model.run()\n",
    "plot_compartments(model)"
   ]
  },
  {
   "cell_type": "markdown",
   "id": "major-detective",
   "metadata": {},
   "source": [
    "Now we can add a strain stratification to the infected (I) and recovered (R) compartments. We will assume immunity to one strain gives you immunity to the other."
   ]
  },
  {
   "cell_type": "code",
   "execution_count": null,
   "id": "changing-defendant",
   "metadata": {},
   "outputs": [],
   "source": [
    "from summer import StrainStratification\n",
    "\n",
    "strata = ['mild', 'wild']\n",
    "strat = StrainStratification(name=\"strain\", strata=strata, compartments=['I', 'R'])\n",
    "\n",
    "# 20% of infected people have wild strain.\n",
    "strat.set_population_split({'mild': 0.8, 'wild': 0.2})\n",
    "\n",
    "model = build_model()\n",
    "model.stratify_with(strat)\n",
    "model.run()\n",
    "plot_compartments(model)"
   ]
  },
  {
   "cell_type": "markdown",
   "id": "violent-infection",
   "metadata": {},
   "source": [
    "Note that despite the stratification, the model results are the same in aggregate, because we have not applied any adjustments to the flows or strata infectiousness yet. Let's do that: "
   ]
  },
  {
   "cell_type": "code",
   "execution_count": null,
   "id": "informational-ratio",
   "metadata": {},
   "outputs": [],
   "source": [
    "from summer import StrainStratification, Multiply\n",
    "\n",
    "strata = ['mild', 'wild']\n",
    "strat = StrainStratification(name=\"strain\", strata=strata, compartments=['I', 'R'])\n",
    "\n",
    "# 20% of infected people have wild strain.\n",
    "strat.set_population_split({'mild': 0.8, 'wild': 0.2})\n",
    "\n",
    "# Wild strain is 1.2x more deadly than mild strain\n",
    "strat.add_flow_adjustments(\"infection_death\", {\n",
    "    \"mild\": None,  \n",
    "    \"wild\": Multiply(1.2),\n",
    "})\n",
    "\n",
    "\n",
    "# Wild strain is 2x more infectious than mild strain\n",
    "strat.add_flow_adjustments(\"infection\", {\n",
    "    \"mild\": None,  \n",
    "    \"wild\": Multiply(2),\n",
    "})\n",
    "\n",
    "\n",
    "model = build_model()\n",
    "model.stratify_with(strat)\n",
    "model.run()\n",
    "plot_compartments(model)"
   ]
  },
  {
   "cell_type": "code",
   "execution_count": null,
   "id": "potential-cache",
   "metadata": {},
   "outputs": [],
   "source": []
  }
 ],
 "metadata": {
  "kernelspec": {
   "display_name": "Python 3",
   "language": "python",
   "name": "python3"
  },
  "language_info": {
   "codemirror_mode": {
    "name": "ipython",
    "version": 3
   },
   "file_extension": ".py",
   "mimetype": "text/x-python",
   "name": "python",
   "nbconvert_exporter": "python",
   "pygments_lexer": "ipython3",
   "version": "3.6.13"
  }
 },
 "nbformat": 4,
 "nbformat_minor": 5
}
