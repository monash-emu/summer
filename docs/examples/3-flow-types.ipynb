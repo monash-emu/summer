{
 "cells": [
  {
   "cell_type": "markdown",
   "source": [
    "# Flow types\n",
    "\n",
    "Summer's [CompartmentalModel](http://summerepi.com/api/model.html) class offers a variety of intercompartmental flows that you can use to define the dynamics of your model. In this example we will cover:\n",
    "\n",
    "- [Transition flow](#Transition-flow) ([docs](http://summerepi.com/api/model.html#summer.model.CompartmentalModel.add_transition_flow))\n",
    "- [Infection density flow](#Infection-density-flow) ([docs](http://summerepi.com/api/model.html#summer.model.CompartmentalModel.add_infection_density_flow))\n",
    "- [Infection frequency flow](#Infection-frequency-flow) ([docs](http://summerepi.com/api/model.html#summer.model.CompartmentalModel.add_infection_frequency_flow))\n",
    "- [Death flow](#Death-flow) ([docs](http://summerepi.com/api/model.html#summer.model.CompartmentalModel.add_death_flow))\n",
    "- [Universal death flows](#Universal-death-flow) ([docs](http://summerepi.com/api/model.html#summer.model.CompartmentalModel.add_universal_death_flows))\n",
    "- [Crude birth flow](#Crude-birth-flow) ([docs](http://summerepi.com/api/model.html#summer.model.CompartmentalModel.add_crude_birth_flow))\n",
    "- [Importation flow](#Importation-flow) ([docs](http://summerepi.com/api/model.html#summer.model.CompartmentalModel.add_importation_flow))\n",
    "- [Replacement birth flow](#Replacement-birth-flow) ([docs](http://summerepi.com/api/model.html#summer.model.CompartmentalModel.add_replacement_birth_flow))\n",
    "- [Function flow](#Function-flow) ([docs](http://summerepi.com/api/model.html#summer.model.CompartmentalModel.add_function_flow))\n",
    " \n",
    "First let's define some utility functions to help with the example below."
   ],
   "metadata": {}
  },
  {
   "cell_type": "code",
   "execution_count": null,
   "source": [
    "import numpy as np\r\n",
    "import matplotlib.pyplot as plt\r\n",
    "from summer import CompartmentalModel\r\n",
    "\r\n",
    "def build_model():\r\n",
    "    \"\"\"Returns a new SIR model\"\"\"\r\n",
    "    return CompartmentalModel(\r\n",
    "        times=[0, 20],\r\n",
    "        compartments=[\"S\", \"I\", \"R\"],\r\n",
    "        infectious_compartments=[\"I\"],\r\n",
    "        timestep=0.1,\r\n",
    "    )\r\n",
    "\r\n",
    "def plot_compartments(model, times=[]):\r\n",
    "    \"\"\"Plot model compartment sizes over time\"\"\"\r\n",
    "    fig, ax = plt.subplots(1, 1, figsize=(12, 6), dpi=120)\r\n",
    "    for i in range(model.outputs.shape[1]):\r\n",
    "        ax.plot(model.times, model.outputs.T[i])\r\n",
    "\r\n",
    "    for t in times:\r\n",
    "        ax.axvline(x=t, color='k', linestyle='--', alpha=0.3)\r\n",
    "        \r\n",
    "    ax.set_title(\"SIR Model Outputs\")\r\n",
    "    ax.set_xlabel(\"Days\")\r\n",
    "    ax.set_ylabel(\"Compartment size\")\r\n",
    "    ax.set_ylim(bottom=0)\r\n",
    "    ax.legend([\"S\", \"I\", \"R\"])\r\n",
    "    start, end = ax.get_xlim()\r\n",
    "    ax.xaxis.set_ticks(np.arange(start + 1, end, 5))\r\n",
    "    plt.show()\r\n"
   ],
   "outputs": [],
   "metadata": {}
  },
  {
   "cell_type": "markdown",
   "source": [
    "## Transition flow\n",
    "\n",
    "With a \"fractional\" transition flow, some proportion of the people in the source compartment transition from this compartment to the destination per time unit. In the example below, 10% of infected people recover per day."
   ],
   "metadata": {}
  },
  {
   "cell_type": "code",
   "execution_count": null,
   "source": [
    "model = build_model()\r\n",
    "model.set_initial_population(distribution={\"I\": 1000})\r\n",
    "\r\n",
    "# Add a recovery flow where 10% of the source recover per time unit.\r\n",
    "model.add_transition_flow(\"recovery\", fractional_rate=0.1, source=\"I\", dest=\"R\")\r\n",
    "\r\n",
    "model.run()\r\n",
    "plot_compartments(model)"
   ],
   "outputs": [],
   "metadata": {}
  },
  {
   "cell_type": "markdown",
   "source": [
    "## Time varying parameters (transition flow)\r\n",
    "\r\n",
    "The rate at which people transition can be set as a constant, or it can be defined as a function of time. This is the case of **all of the flows**: every parameter can be a constant _or_ a function of time.\r\n",
    "Parameters also take a 'computed_values' argument, which is a dictionary of values computed at runtime that is not specific to any individual flow."
   ],
   "metadata": {}
  },
  {
   "cell_type": "code",
   "execution_count": null,
   "source": [
    "model = build_model()\r\n",
    "model.set_initial_population(distribution={\"S\": 0, \"I\": 1000})\r\n",
    "\r\n",
    "def recovery_rate(time, computed_values):\r\n",
    "    \"\"\"\r\n",
    "    Returns the recovery rate for a given time.\r\n",
    "    People recover faster after day ten due to a magic drug.\r\n",
    "    \"\"\"\r\n",
    "    if time < 10:\r\n",
    "        return 0.1\r\n",
    "    else:\r\n",
    "        return 0.4\r\n",
    "    \r\n",
    "    \r\n",
    "# Add a recovery flow where 10% of the source recover per time unit.\r\n",
    "model.add_transition_flow(\"recovery\", recovery_rate, \"I\", \"R\")\r\n",
    "\r\n",
    "# Use Runge-Kutta 4 solver to better capture sharp discontinuity.\r\n",
    "model.run(solver=\"rk4\")\r\n",
    "plot_compartments(model, times=[10])"
   ],
   "outputs": [],
   "metadata": {}
  },
  {
   "cell_type": "markdown",
   "source": [
    "## Infection density flow\n",
    "\n",
    "This flow can be used to model infections using density-dependent disease transmission (as opposed to frequency dependent). This [article](https://parasiteecology.wordpress.com/2013/10/17/density-dependent-vs-frequency-dependent-disease-transmission/) may be helpful in understanding the difference between the two methods.\n",
    "\n",
    "In unstratified models, the density-dependent infection flow rate (people infected per time unit) is calculated as:\n",
    "\n",
    "```python\n",
    "# contact_rate: Rate at which effective contact happens between two individuals, i.e. contact that would result in transmission were it to occur between a susceptible and an infectious person\n",
    "# num_source: Number of people in the (susceptible) source compartment\n",
    "# num_infectious: Number of people infectious\n",
    "force_of_infection = contact_rate * num_infectious\n",
    "flow_rate = force_of_infection * num_source\n",
    "```"
   ],
   "metadata": {}
  },
  {
   "cell_type": "code",
   "execution_count": null,
   "source": [
    "model = build_model()\r\n",
    "model.set_initial_population(distribution={\"S\": 990, \"I\": 10})\r\n",
    "\r\n",
    "# Add a density dependent infection flow. \r\n",
    "model.add_infection_density_flow(\"infection\", contact_rate=1e-3, source=\"S\", dest=\"I\")\r\n",
    "\r\n",
    "model.run()\r\n",
    "plot_compartments(model)"
   ],
   "outputs": [],
   "metadata": {}
  },
  {
   "cell_type": "markdown",
   "source": [
    "## Infection frequency flow\n",
    "\n",
    "This flow can be used to model infections using frequency-dependent disease transmission.\n",
    "\n",
    "In unstratified models, the frequency-dependent infection flow rate (the number of people infected per time unit) is calculated as:\n",
    "\n",
    "\n",
    "```python\n",
    "# contact_rate: Rate at which contact happens between people and results in a transmission\n",
    "# num_source: Number of people in the (susceptible) source compartment\n",
    "# num_infectious: Number of people infected\n",
    "# num_pop: Total number of people in the population\n",
    "force_of_infection = contact_rate * num_infectious / num_pop\n",
    "flow_rate = force_of_infection * num_source\n",
    "```"
   ],
   "metadata": {}
  },
  {
   "cell_type": "code",
   "execution_count": null,
   "source": [
    "model = build_model()\n",
    "model.set_initial_population(distribution={\"S\": 990, \"I\": 10})\n",
    "\n",
    "# Add a frequency dependent infection flow. \n",
    "model.add_infection_frequency_flow(\"infection\", contact_rate=1, source=\"S\", dest=\"I\")\n",
    "\n",
    "model.run()\n",
    "plot_compartments(model)"
   ],
   "outputs": [],
   "metadata": {}
  },
  {
   "cell_type": "markdown",
   "source": [
    "## Death flow\n",
    "\n",
    "With a death flow, some percent of people in a user-selected source compartment die and leave the system every time unit."
   ],
   "metadata": {}
  },
  {
   "cell_type": "code",
   "execution_count": null,
   "source": [
    "model = build_model()\n",
    "model.set_initial_population(distribution={\"S\": 1000, \"I\": 1000})\n",
    "\n",
    "# 3% of the infected population die per day due to the infection.\n",
    "model.add_death_flow(\"infection_death\", death_rate=0.03, source=\"I\")\n",
    "\n",
    "# 1% of the susceptible population die per day due to tiger attacks. \n",
    "model.add_death_flow(\"tiger_death\", death_rate=0.01, source=\"S\")\n",
    "\n",
    "model.run()\n",
    "plot_compartments(model)"
   ],
   "outputs": [],
   "metadata": {}
  },
  {
   "cell_type": "markdown",
   "source": [
    "## Universal death flow\n",
    "\n",
    "Adding \"universal deaths\" is a convenient way to set up a death flow for every compartment, which can account for non-disease mortality (heart disease and getting hit by a bus). This is functionally the same as manually adding a death flow for every compartment. You can adjust the universal death rate for particlar strata later during the stratification process (e.g. age-based mortality)."
   ],
   "metadata": {}
  },
  {
   "cell_type": "code",
   "execution_count": null,
   "source": [
    "model = build_model()\n",
    "model.set_initial_population(distribution={\"S\": 700, \"I\": 200, \"R\": 100})\n",
    "\n",
    "# 2% of the population die per day for non-infection-related reasons.\n",
    "model.add_universal_death_flows(\"universal_death\", death_rate=0.02)\n",
    "\n",
    "model.run()\n",
    "plot_compartments(model)"
   ],
   "outputs": [],
   "metadata": {}
  },
  {
   "cell_type": "markdown",
   "source": [
    "## Crude birth flow\n",
    "\n",
    "Some percentage of the total population are born into the destination compartment every time unit."
   ],
   "metadata": {}
  },
  {
   "cell_type": "code",
   "execution_count": null,
   "source": [
    "model = build_model()\n",
    "model.set_initial_population(distribution={\"S\": 700, \"I\": 600, \"R\": 500})\n",
    "\n",
    "# 5% of the total population per day are born as susceptible.\n",
    "model.add_crude_birth_flow(\"birth\", birth_rate=0.05, dest=\"S\")\n",
    "\n",
    "model.run()\n",
    "plot_compartments(model)"
   ],
   "outputs": [],
   "metadata": {}
  },
  {
   "cell_type": "markdown",
   "source": [
    "## Importation flow\n",
    "\n",
    "An absolute number of people arrive in the destination per time unit. This can be used to model arrivals from outside of the modelled region."
   ],
   "metadata": {}
  },
  {
   "cell_type": "code",
   "execution_count": null,
   "source": [
    "model = build_model()\n",
    "model.set_initial_population(distribution={\"S\": 700, \"I\": 600, \"R\": 500})\n",
    "\n",
    "# 12 susceptible people arrive per year.\n",
    "model.add_importation_flow(\"imports\", num_imported=12, dest=\"S\")\n",
    "\n",
    "# 6 infected people arrive per year.\n",
    "model.add_importation_flow(\"imports\", num_imported=6, dest=\"I\")\n",
    "\n",
    "model.run()\n",
    "plot_compartments(model)"
   ],
   "outputs": [],
   "metadata": {}
  },
  {
   "cell_type": "markdown",
   "source": [
    "## Replacement birth flow\n",
    "\n",
    "Add a flow to replace the number of deaths into the destination compartment. This means the total population should be conserved over time."
   ],
   "metadata": {}
  },
  {
   "cell_type": "code",
   "execution_count": null,
   "source": [
    "model = build_model()\n",
    "model.set_initial_population(distribution={\"S\": 650, \"I\": 600, \"R\": 0})\n",
    "\n",
    "# 5% of the infected population die per year due to infection.\n",
    "model.add_death_flow(\"infection_death\", death_rate=0.05, source=\"I\")\n",
    "\n",
    "# The infected people who have died arrive back in the susceptible compartment.\n",
    "model.add_replacement_birth_flow(\"births\", dest=\"S\")\n",
    "\n",
    "model.run()\n",
    "plot_compartments(model)"
   ],
   "outputs": [],
   "metadata": {}
  },
  {
   "cell_type": "markdown",
   "source": [
    "## Function flow\n",
    "\n",
    "A function flow gives you more control over how a flow should work. This is when you need to include more complex behaviour in your model which cannot be expressed using the built-in flows above."
   ],
   "metadata": {}
  },
  {
   "cell_type": "code",
   "execution_count": null,
   "source": [
    "model = build_model()\n",
    "model.set_initial_population(distribution={\"S\": 650, \"I\": 100, \"R\": 0})\n",
    "\n",
    "def get_vaccination_flow_rate(flow, comp_names, comp_vals, flows, flow_rates, derived_values, time):\n",
    "    \"\"\"\n",
    "    Returns the flow-rate of susceptible people who get vaccinated and become recovered.\n",
    "    \n",
    "    Args:\n",
    "        flow: The flow object being run\n",
    "        comp_names: List of compartment names (Compartment)\n",
    "        comp_vals: Array of compartment values at this timestep\n",
    "        flows: List of flow objects (used to calculate flow rates)\n",
    "        flow_rates: Calculated flow rate for each non-function flow at this timestep\n",
    "        time: Current timestep\n",
    "    \n",
    "    Returns: The flow rate (float)\n",
    "    \"\"\"\n",
    "    if time < 5:\n",
    "        # Vaccinate 10 people per day until day 5\n",
    "        return 10\n",
    "    elif 5 < time < 15:\n",
    "        # Vaccinate 5% of the total population per day until day 15\n",
    "        return 0.05 * comp_vals.sum()\n",
    "    else:\n",
    "        # After day 15 stop vaccinations, because we ran out of money\n",
    "        return 0\n",
    "    \n",
    "\n",
    "# Use a custom function to model vaccinations\n",
    "model.add_function_flow(\"vacinnation\", flow_rate_func=get_vaccination_flow_rate, source=\"S\", dest=\"R\")\n",
    "\n",
    "# Use Runge-Kutta 4 solver to better capture sharp discontinuity.\n",
    "model.run(solver=\"rk4\")\n",
    "plot_compartments(model, times=[0, 20])"
   ],
   "outputs": [],
   "metadata": {}
  },
  {
   "cell_type": "markdown",
   "source": [
    "## Summary\n",
    "\n",
    "That's it for now, now you know how to use all the flow types available in summer to define the dynamics of your compartmental model. In future examples you will see how to use these flows in a stratified model.\n",
    "\n",
    "A detailed API reference of the CompartmentalModel class can be found [here](http://summerepi.com/api/model.html)"
   ],
   "metadata": {}
  },
  {
   "cell_type": "code",
   "execution_count": null,
   "source": [],
   "outputs": [],
   "metadata": {}
  }
 ],
 "metadata": {
  "kernelspec": {
   "display_name": "Python 3",
   "language": "python",
   "name": "python3"
  },
  "language_info": {
   "codemirror_mode": {
    "name": "ipython",
    "version": 3
   },
   "file_extension": ".py",
   "mimetype": "text/x-python",
   "name": "python",
   "nbconvert_exporter": "python",
   "pygments_lexer": "ipython3",
   "version": "3.6.13"
  }
 },
 "nbformat": 4,
 "nbformat_minor": 5
}