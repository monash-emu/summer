{
 "cells": [
  {
   "cell_type": "markdown",
   "source": [
    "# ODE solvers\n",
    "\n",
    "Summer's compartmental models produce results by solving a system of ordinary differential equations (ODE) defined by the inter-compartmental flows. You can see an explicit example of how this kind of thing is calculated [here](http://summerepi.com/examples/1-basic-model.html#Bonus:-how-the-model-works-inside).\n",
    "\n",
    "This document will give you an overview of the ODE solvers available when running Summer's compartmental models. To help demonstrate the strengths and weaknesses of the available solvers, we will look at an example SIR model where the model:\n",
    "\n",
    "- Has three compartments (S, I, R)\n",
    "- Runs from 0 to 20 days\n",
    "- Has three flows\n",
    "  - Infection (S -> I) with a constant contact rate\n",
    "  - Recovery (I -> R) with a period of higher recovery rates from days 5 to 10\n",
    "  - Import of infected people (into I), occuring as four transient 1-day events during 10, 14, 16 and 19\n",
    "  \n",
    "The purpose of this example model is to show you how the different solvers handle transient events. The model and ploting code is defined below:"
   ],
   "metadata": {}
  },
  {
   "cell_type": "code",
   "execution_count": null,
   "source": [
    "import numpy as np\r\n",
    "import matplotlib.pyplot as plt\r\n",
    "from summer import CompartmentalModel\r\n",
    "\r\n",
    "RECOVERY_TIMES = [5, 10]\r\n",
    "IMPORT_TIMES = [10.9, 14.3, 16.7, 19.4]\r\n",
    "TIMES = set(RECOVERY_TIMES + IMPORT_TIMES)\r\n",
    "\r\n",
    "def build_model():\r\n",
    "    \"\"\"Returns a new SIR model\"\"\"\r\n",
    "    model = CompartmentalModel(\r\n",
    "        times=[0, 20],\r\n",
    "        compartments=[\"S\", \"I\", \"R\"],\r\n",
    "        infectious_compartments=[\"I\"],\r\n",
    "        timestep=0.1,\r\n",
    "    )\r\n",
    "    model.set_initial_population(distribution={\"S\": 990, \"I\": 10})\r\n",
    "    # Add a infection flow\r\n",
    "    model.add_infection_frequency_flow(\"infection\", contact_rate=1, source=\"S\", dest=\"I\")\r\n",
    "    \r\n",
    "    # Add a recovery flow.\r\n",
    "    def recovery_rate(time, computed_values):\r\n",
    "        \"\"\"\r\n",
    "        Returns the recovery rate for a given time.\r\n",
    "        People recover faster after day 5 due to a magic drug\r\n",
    "        \"\"\"\r\n",
    "        start, end = RECOVERY_TIMES\r\n",
    "        if time < start or time > end:\r\n",
    "            return 0.1\r\n",
    "        else:\r\n",
    "            return 0.6\r\n",
    "\r\n",
    "    model.add_transition_flow(\"recovery\", recovery_rate, \"I\", \"R\")\r\n",
    "\r\n",
    "    # Add an import flow.\r\n",
    "    def get_infected_imports(time):\r\n",
    "        \"\"\"\r\n",
    "        Returns the number of infected people imported at a given timestep.\r\n",
    "        Import 100 people per day during each import event.\r\n",
    "        \"\"\"\r\n",
    "        if any([t < time < t + 1 for  t in IMPORT_TIMES]):\r\n",
    "            return 200\r\n",
    "        else:\r\n",
    "            return 0\r\n",
    "   \r\n",
    "    \r\n",
    "    model.add_importation_flow('infected_imports', get_infected_imports, 'I')\r\n",
    "\r\n",
    "    return model\r\n",
    "    \r\n",
    "    \r\n",
    "def plot_compartments(model, times=[]):\r\n",
    "    \"\"\"Plot model compartment sizes over time\"\"\"\r\n",
    "    fig, ax = plt.subplots(1, 1, figsize=(12, 6), dpi=120)\r\n",
    "    for i in range(model.outputs.shape[1]):\r\n",
    "        ax.plot(model.times, model.outputs.T[i])\r\n",
    "\r\n",
    "    for t in times:\r\n",
    "        ax.axvline(x=t, color='k', linestyle='--', alpha=0.3)\r\n",
    "        \r\n",
    "    ax.set_title(\"SIR Model Outputs\")\r\n",
    "    ax.set_xlabel(\"Days\")\r\n",
    "    ax.set_ylabel(\"Compartment size\")\r\n",
    "    start, end = ax.get_xlim()\r\n",
    "    ax.xaxis.set_ticks(np.arange(start + 1, end, 5))\r\n",
    "    ax.legend([\"S\", \"I\", \"R\"])\r\n",
    "    plt.show()\r\n"
   ],
   "outputs": [],
   "metadata": {}
  },
  {
   "cell_type": "markdown",
   "source": [
    "## Default ODE solver (solve_ivp)\n",
    "\n",
    "By default, when you call `model.run()`, Summer will use SciPy's `solve_ivp` function ([docs](https://docs.scipy.org/doc/scipy/reference/generated/scipy.integrate.solve_ivp.html)). This method defaults to using an [adaptive](https://en.wikipedia.org/wiki/Adaptive_step_size) [Runge-Kutta](https://en.wikipedia.org/wiki/Runge%E2%80%93Kutta_methods) solver, which tends to run the fastest out of the currently available deterministic options. There are two potential problems with using this solver:\n",
    "\n",
    "- **#1** The number of iterations required (and rumtime) can depend on the model dynamics. Changing the model can affect the runtime in unpredictable ways, because the step size can become very small.\n",
    "- **#2** The adaptive step size of this solver can completely miss transient events. For example, in the below plot, note how the day 14 import event was not picked up by the solver, because the system wasn't evaluated at the times necessary for this to have an effect. "
   ],
   "metadata": {}
  },
  {
   "cell_type": "code",
   "execution_count": null,
   "source": [
    "model = build_model()\n",
    "# Run model with solve_ivp, with default arguments.\n",
    "model.run()\n",
    "# Also equivalent:\n",
    "#     model.run('solve_ivp')\n",
    "#     model.run(solver='solve_ivp')\n",
    "plot_compartments(model, times=TIMES)"
   ],
   "outputs": [],
   "metadata": {}
  },
  {
   "cell_type": "markdown",
   "source": [
    "## Default ODE solver (solve_ivp) with additional arguments\n",
    "\n",
    "You can pass extra arguments to the solver function to adjust its behavior. For example, we can force the `solve_ivp` function to use a maximum step size of 0.1 so that it does not miss any transient import events ([docs](https://docs.scipy.org/doc/scipy/reference/generated/scipy.integrate.solve_ivp.html)). By default, Summer uses a maximum step size of `1.0` for the default ODE solver (`solve_ivp`). The downside of using a smaller maximum step size is that the solver will need to evaluate the model at more timesteps and will run more slowly."
   ],
   "metadata": {}
  },
  {
   "cell_type": "code",
   "execution_count": null,
   "source": [
    "model = build_model()\n",
    "# Run model with solve_ivp, with a custom argument.\n",
    "model.run(max_step=0.1)\n",
    "plot_compartments(model, times=TIMES)"
   ],
   "outputs": [],
   "metadata": {}
  },
  {
   "cell_type": "markdown",
   "source": [
    "## Fixed-step Runge-Kutta 4 solver\n",
    "\n",
    "The model can also be evaluated with a hand-rolled RK4 solver which runs with a fixed step size. It tends to be slower (sometimes much slower) than the using SciPy's `solve_ivp`, but it is guaranteed to evaluate every time step. It can be useful for debugging, because it does not use an adaptive step size."
   ],
   "metadata": {}
  },
  {
   "cell_type": "code",
   "execution_count": null,
   "source": [
    "model = build_model()\n",
    "model.run(\"rk4\", step_size=0.1)\n",
    "plot_compartments(model, times=TIMES)"
   ],
   "outputs": [],
   "metadata": {}
  },
  {
   "cell_type": "markdown",
   "source": [
    "Of course, it is still important to choose an appropriate step size. If your step size is too large, you will miss some events."
   ],
   "metadata": {}
  },
  {
   "cell_type": "code",
   "execution_count": null,
   "source": [
    "model = build_model()\n",
    "model.run(\"rk4\", step_size=2)\n",
    "plot_compartments(model, times=TIMES)"
   ],
   "outputs": [],
   "metadata": {}
  },
  {
   "cell_type": "markdown",
   "source": [
    "## Summary\n",
    "\n",
    "That's it for now. Now you know how to use different ODE solvers available in Summer. Please be aware they each solver has limitations that should be interrogated.\n",
    "\n",
    "A detailed API reference of the solvers available can be found [here](http://summerepi.com/api/solver.html)."
   ],
   "metadata": {}
  },
  {
   "cell_type": "code",
   "execution_count": null,
   "source": [],
   "outputs": [],
   "metadata": {}
  }
 ],
 "metadata": {
  "kernelspec": {
   "display_name": "Python 3",
   "language": "python",
   "name": "python3"
  },
  "language_info": {
   "codemirror_mode": {
    "name": "ipython",
    "version": 3
   },
   "file_extension": ".py",
   "mimetype": "text/x-python",
   "name": "python",
   "nbconvert_exporter": "python",
   "pygments_lexer": "ipython3",
   "version": "3.6.13"
  }
 },
 "nbformat": 4,
 "nbformat_minor": 5
}