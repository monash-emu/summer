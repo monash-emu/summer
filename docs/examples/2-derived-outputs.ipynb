{
 "cells": [
  {
   "cell_type": "markdown",
   "id": "necessary-institution",
   "metadata": {},
   "source": [
    "# Calculating derived outputs\n",
    "\n",
    "In the [previous example](/examples/1-basic-model.html), we saw how to create and run a compartmental model.\n",
    "\n",
    "This example shows you how you can request more detailed outputs from the model, in addition to just the compartment sizes. Summer supports the calculation of \"derived outputs\": these are additional outputs that are calculated from either:\n",
    "\n",
    "- the model compartment sizes for each timestep; or\n",
    "- the model flow rates at each timestep\n",
    "\n",
    "There are several different types of derived outputs that will be presented in this example:\n",
    "\n",
    "- **[Flow output](/model.html#summer.model.CompartmentalModel.request_output_for_flow)**: A sum of one or more flow rates at each timestep\n",
    "- **[Compartment output](/model.html#summer.model.CompartmentalModel.request_output_for_compartments)**: A sum of one or more compartment sizes at each timestep\n",
    "- **[Aggregate output](/model.html#summer.model.CompartmentalModel.request_aggregate_output)**: An aggregate of other derived outputs\n",
    "- **[Cumulative output](/model.html#summer.model.CompartmentalModel.request_cumulative_output)**: A cumulative sum of another derived output\n",
    "- **[Function output](/model.html#summer.model.CompartmentalModel.request_function_output)**: A pure function of other derived outputs\n",
    "\n",
    "To start, let's define some utility functions to create a SIR model that is similar to the one from the last example:"
   ]
  },
  {
   "cell_type": "code",
   "execution_count": null,
   "id": "chemical-earthquake",
   "metadata": {},
   "outputs": [],
   "source": [
    "import numpy as np\n",
    "import matplotlib.pyplot as plt\n",
    "from summer import CompartmentalModel\n",
    "\n",
    "def build_model():\n",
    "    \"\"\"Returns a new SIR model\"\"\"\n",
    "    model = CompartmentalModel(\n",
    "        times=[0, 20],\n",
    "        compartments=[\"S\", \"I\", \"R\"],\n",
    "        infectious_compartments=[\"I\"],\n",
    "        timestep=0.1,\n",
    "    )\n",
    "    model.set_initial_population(distribution={\"S\": 990, \"I\": 10})\n",
    "    model.add_infection_frequency_flow(name=\"infection\", contact_rate=2, source=\"S\", dest=\"I\")\n",
    "    model.add_sojourn_flow(name=\"recovery\", sojourn_time=3, source=\"I\", dest=\"R\")\n",
    "    model.add_death_flow(name=\"infection_death\", death_rate=0.05, source=\"I\")\n",
    "    return model\n",
    "\n",
    "def plot_output(model, name, title):\n",
    "    \"\"\"Plot a derived output for a model\"\"\"\n",
    "    fig, ax = plt.subplots(1, 1, figsize=(12, 6), dpi=120)\n",
    "    ax.plot(model.times, model.derived_outputs[name])\n",
    "    ax.set_title(title)\n",
    "    ax.set_xlabel(\"Days\")\n",
    "    ax.set_ylabel(name)\n",
    "    start, end = ax.get_xlim()\n",
    "    ax.xaxis.set_ticks(np.arange(start + 1, end, 5))\n",
    "    plt.show()\n",
    "\n",
    "# Force NumPy to format printed arrays nicely. \n",
    "np.set_printoptions(formatter={'all': lambda f: f\"{f:0.2f}\"})"
   ]
  },
  {
   "cell_type": "markdown",
   "id": "ignored-wrong",
   "metadata": {},
   "source": [
    "Let's quickly visualize what the compartments are doing over time:"
   ]
  },
  {
   "cell_type": "code",
   "execution_count": null,
   "id": "undefined-stretch",
   "metadata": {},
   "outputs": [],
   "source": [
    "model = build_model()\n",
    "model.run()\n",
    "fig, ax = plt.subplots(1, 1, figsize=(12, 6), dpi=120)\n",
    "\n",
    "# Add each compartment to the plot.\n",
    "for i in range(model.outputs.shape[1]):\n",
    "    ax.plot(model.times, model.outputs.T[i])\n",
    "\n",
    "ax.set_title(\"SIR Model Outputs\")\n",
    "ax.set_xlabel(\"Days\")\n",
    "ax.set_ylabel(\"Compartment size\")\n",
    "ax.legend([\"S\", \"I\", \"R\"])\n",
    "start, end = ax.get_xlim()\n",
    "ax.xaxis.set_ticks(np.arange(start + 1, end, 5))\n",
    "plt.show()"
   ]
  },
  {
   "cell_type": "markdown",
   "id": "alternative-williams",
   "metadata": {},
   "source": [
    "## Requesting derived outputs\n",
    "\n",
    "We can ask a model to calculate extra outputs that are derived from the compartment sizes and flow rates. For example, we might want to ask the model to track the number of people who died from infection per timestep."
   ]
  },
  {
   "cell_type": "code",
   "execution_count": null,
   "id": "referenced-luther",
   "metadata": {},
   "outputs": [],
   "source": [
    "# Create a model (see above)\n",
    "model = build_model()\n",
    "\n",
    "# Request that the model calculate a derived output when it is run.\n",
    "model.request_output_for_flow(name=\"deaths\", flow_name=\"infection_death\")"
   ]
  },
  {
   "cell_type": "markdown",
   "id": "satellite-sunday",
   "metadata": {},
   "source": [
    "Now when we run the model, it will create an NumPy array of infection deaths that we can access via `model.derived_outputs`."
   ]
  },
  {
   "cell_type": "code",
   "execution_count": null,
   "id": "acquired-trick",
   "metadata": {},
   "outputs": [],
   "source": [
    "# Run the model\n",
    "model.run()\n",
    "\n",
    "# View the derived outputs dictionary that we calculated when `run()` was called.\n",
    "print(\"Derived outputs:\\n\", model.derived_outputs)"
   ]
  },
  {
   "cell_type": "markdown",
   "id": "unable-marketplace",
   "metadata": {},
   "source": [
    "## Flow outputs\n",
    "\n",
    "A **[flow output](/model.html#summer.model.CompartmentalModel.request_output_for_flow)** tracks a set of requested flow rates for each timestep. These requests can also select flows between particular strata in a stratified model (see later examples)."
   ]
  },
  {
   "cell_type": "code",
   "execution_count": null,
   "id": "interior-desperate",
   "metadata": {},
   "outputs": [],
   "source": [
    "model = build_model()\n",
    "\n",
    "# Request that the 'infection_death' flow is tracked as a derived output named 'deaths'.\n",
    "model.request_output_for_flow(name=\"deaths\", flow_name=\"infection_death\")\n",
    "\n",
    "model.run()\n",
    "plot_output(model, \"deaths\", \"Infection deaths per timestep\")"
   ]
  },
  {
   "cell_type": "markdown",
   "id": "bored-elder",
   "metadata": {},
   "source": [
    "## Cumulative outputs\n",
    "\n",
    "You can use a  **[cumulative output](/model.html#summer.model.CompartmentalModel.request_cumulative_output)** to request that the model tracks the cumulative sum of other derived outputs over time. For example, let's track total infection deaths and the total people recovered:"
   ]
  },
  {
   "cell_type": "code",
   "execution_count": null,
   "id": "interracial-wells",
   "metadata": {},
   "outputs": [],
   "source": [
    "model = build_model()\n",
    "model.request_output_for_flow(name=\"deaths\", flow_name=\"infection_death\")\n",
    "\n",
    "# Request that the 'deaths' derived output is accumulated into 'deaths_cumulative'.\n",
    "model.request_cumulative_output(name=\"deaths_cumulative\", source=\"deaths\")\n",
    "\n",
    "model.run()\n",
    "plot_output(model, \"deaths_cumulative\", \"Cumulative infection deaths\")"
   ]
  },
  {
   "cell_type": "markdown",
   "id": "curious-decision",
   "metadata": {},
   "source": [
    "## Compartment outputs\n",
    "\n",
    "A **[compartment output](/model.html#summer.model.CompartmentalModel.request_output_for_compartments)** tracks the sum of one or more compartments at each timestep. These requests can also select compartments for particular strata in a stratified model (see later examples)."
   ]
  },
  {
   "cell_type": "code",
   "execution_count": null,
   "id": "preceding-tactics",
   "metadata": {},
   "outputs": [],
   "source": [
    "model = build_model()\n",
    "\n",
    "# Request that the S and R compartment sizes are combined into 'uninfected'.\n",
    "model.request_output_for_compartments(name=\"uninfected\", compartments=[\"S\", \"R\"])\n",
    "\n",
    "model.run()\n",
    "plot_output(model, \"uninfected\", \"Number of currently uninfected people\")"
   ]
  },
  {
   "cell_type": "markdown",
   "id": "behind-percentage",
   "metadata": {},
   "source": [
    "## Aggregate outputs\n",
    "\n",
    "You can use an **[aggregate output](/model.html#summer.model.CompartmentalModel.request_aggregate_output)** to request an aggregate of other derived outputs."
   ]
  },
  {
   "cell_type": "code",
   "execution_count": null,
   "id": "typical-paragraph",
   "metadata": {},
   "outputs": [],
   "source": [
    "model = build_model()\n",
    "\n",
    "# Track some flows.\n",
    "model.request_output_for_flow(name=\"deaths\", flow_name=\"infection_death\")\n",
    "model.request_output_for_flow(name=\"recoveries\", flow_name=\"recovery\")\n",
    "\n",
    "# Accumulate the flows.\n",
    "model.request_cumulative_output(name=\"deaths_cumulative\", source=\"deaths\")\n",
    "model.request_cumulative_output(name=\"recoveries_cumulative\", source=\"recoveries\")\n",
    "\n",
    "# Aggregate 'deaths_cumulative' and 'recovered_cumulative' into a single output.\n",
    "model.request_aggregate_output(\n",
    "    name=\"dead_or_recovered_cumulative\",\n",
    "    sources=[\"deaths_cumulative\", \"recoveries_cumulative\"]\n",
    ")\n",
    "\n",
    "model.run()\n",
    "plot_output(model, \"dead_or_recovered_cumulative\", \"Cumulative dead or recovered\")\n",
    "# (In this simple model, this could be also easily be tracked as the complement of the the susceptible population.)"
   ]
  },
  {
   "cell_type": "markdown",
   "id": "activated-teach",
   "metadata": {},
   "source": [
    "## Function outputs\n",
    "\n",
    "You can use **[function outputs](/model.html#summer.model.CompartmentalModel.request_function_output)** to calculate outputs with a user-defined function. This function takes the requested sources (NumPy arrays) as inputs and should return a NumPy array of the same size.\n",
    "\n",
    "For example, here we request a calculation that gets us the prevalence of the disease."
   ]
  },
  {
   "cell_type": "code",
   "execution_count": null,
   "id": "vital-yacht",
   "metadata": {},
   "outputs": [],
   "source": [
    "model = build_model()\n",
    "\n",
    "# Track the number of infectious people as a derived output.\n",
    "# Here we use `save_results=False` because we don't need to use this later.\n",
    "model.request_output_for_compartments(name=\"count_infectious\", compartments=[\"I\"], save_results=False)\n",
    "\n",
    "# Track the total population as a derived output.\n",
    "model.request_output_for_compartments(name=\"total_population\", compartments=[\"S\", \"R\"], save_results=False)\n",
    "\n",
    "# Define a function that we will use to calculate prevalence.\n",
    "# The arguments (infectious, total) will be NumPy arrays.\n",
    "def get_prevalence(infectious, total):\n",
    "    return infectious / total\n",
    "\n",
    "# Request a function output, using `get_prevalence`.\n",
    "# The sources will map to the function arguments.\n",
    "model.request_function_output(\n",
    "    name=\"prevalence\",\n",
    "    sources=[\"count_infectious\", \"total_population\"],\n",
    "    func=get_prevalence,\n",
    ")\n",
    "\n",
    "model.run()\n",
    "plot_output(model, \"prevalence\", \"Prevalence of disease\")"
   ]
  },
  {
   "cell_type": "markdown",
   "id": "responsible-reality",
   "metadata": {},
   "source": [
    "## Summary\n",
    "\n",
    "That's it for now, now you know how to:\n",
    "\n",
    "- Request derived outputs\n",
    "- Chain and combine derived outputs\n",
    "- Access and visualize the derived outputs\n",
    "\n",
    "A detailed API reference of the CompartmentalModel class can be found [here](http://summerepi.com/api/model.html)"
   ]
  },
  {
   "cell_type": "code",
   "execution_count": null,
   "id": "standing-revelation",
   "metadata": {},
   "outputs": [],
   "source": []
  }
 ],
 "metadata": {
  "kernelspec": {
   "display_name": "Python 3",
   "language": "python",
   "name": "python3"
  },
  "language_info": {
   "codemirror_mode": {
    "name": "ipython",
    "version": 3
   },
   "file_extension": ".py",
   "mimetype": "text/x-python",
   "name": "python",
   "nbconvert_exporter": "python",
   "pygments_lexer": "ipython3",
   "version": "3.6.13"
  }
 },
 "nbformat": 4,
 "nbformat_minor": 5
}
