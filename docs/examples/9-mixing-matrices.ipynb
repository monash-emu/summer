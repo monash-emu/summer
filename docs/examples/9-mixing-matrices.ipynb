{
 "cells": [
  {
   "cell_type": "markdown",
   "id": "inner-diploma",
   "metadata": {},
   "source": [
    "# Mixing matrices\n",
    "\n",
    "By default the Summer compartmental model assumes that everybody comes into contact with everybody else about the same amount (homogeneous mixing). This isn't always true. It may be the case, for example, that children tend to interact more with other children, and less with the elderly. This difference in social mixing can be expressed and modelled using a \"mixing matrix\". A NxN matrix which defines how each N strata of a stratification interact and may infect each other.\n",
    "\n",
    "\n",
    "For example, in a 'child'/'adult' stratification, we could have the following mixing matrix:\n",
    "\n",
    "| | child | adult |\n",
    "| --- | --- | --- |\n",
    "| child | 0.5 | 0.5 |\n",
    "| adult | 0.5 | 0.5 |\n",
    "\n",
    "\n",
    "In this mixing matrix, the columns are the infectors and the rows the infected. So the above matrix has following values:\n",
    "\n",
    "| | child | adult |\n",
    "| --- | --- | --- |\n",
    "| child | child -> child | adult -> child |\n",
    "| adult | child -> adult | adult -> adult |\n",
    "\n",
    "\n",
    "SEE tests/test_force_of_infection.py"
   ]
  },
  {
   "cell_type": "markdown",
   "id": "boolean-forge",
   "metadata": {},
   "source": [
    "## Prem et al. mixing matrices based on age and location\n",
    "\n",
    "You can obtain estimated mixing matrices from [Projecting social contact matrices in 152 countries using contact surveys and demographic data](https://journals.plos.org/ploscompbiol/article?id=10.1371/journal.pcbi.1005697#sec020) by Prem et al. in PLOS Computational Biology in 2017.\n",
    "\n",
    "This paper is accompanied by age and location specific mixing matrices for 152 countries. You can download the matrices as Excel spreadsheets [here](https://doi.org/10.1371/journal.pcbi.1005697.s002). The paper provides mixing matrices for 5 location types:\n",
    "\n",
    "- home\n",
    "- school\n",
    "- work\n",
    "- other_locations\n",
    "- all_locations\n",
    "\n",
    "The rows and columns indices of each matrix represent a 5 year age bracket from 0-80, giving us a 16x16 matrix. \n",
    "\n",
    "A more recent version of these social mixing matrices can be obtained from [Kiesha Prem's GitHub](https://github.com/kieshaprem/synthetic-contact-matrices)"
   ]
  },
  {
   "cell_type": "code",
   "execution_count": null,
   "id": "annual-lawrence",
   "metadata": {},
   "outputs": [],
   "source": []
  }
 ],
 "metadata": {
  "kernelspec": {
   "display_name": "Python 3",
   "language": "python",
   "name": "python3"
  },
  "language_info": {
   "codemirror_mode": {
    "name": "ipython",
    "version": 3
   },
   "file_extension": ".py",
   "mimetype": "text/x-python",
   "name": "python",
   "nbconvert_exporter": "python",
   "pygments_lexer": "ipython3",
   "version": "3.6.13"
  }
 },
 "nbformat": 4,
 "nbformat_minor": 5
}
