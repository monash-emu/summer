{
 "cells": [
  {
   "cell_type": "markdown",
   "id": "regulated-ireland",
   "metadata": {},
   "source": [
    "# Age stratification\n",
    "\n",
    "Summer provides a special age stratification class ([AgeStratification](http://summerepi.com/api/stratification.html#summer.stratification.AgeStratification)) that automatically adds ageing flows to the model. See the linked documentation for more details on the flows.\n",
    "\n",
    "`AgeStratification` is used similarly to the more general-purpose `Stratification` class, except it makes some assumptions of the meaning of the strata in order to implement ageing flows.\n",
    "\n",
    "**Important caveat**: The AgeStratification assumes that your time unit is years.\n",
    "\n",
    "Let's start by creating a vanilla SIR model. You can see that there are no flows by default:"
   ]
  },
  {
   "cell_type": "code",
   "execution_count": 1,
   "id": "changing-insight",
   "metadata": {},
   "outputs": [],
   "source": [
    "from summer import CompartmentalModel, AgeStratification\n",
    "\n",
    "model = CompartmentalModel(\n",
    "    times=[1990, 2010],\n",
    "    compartments=[\"S\", \"I\", \"R\"],\n",
    "    infectious_compartments=[\"I\"],\n",
    "    timestep=0.1,\n",
    ")\n",
    "model.set_initial_population(distribution={\"S\": 900, \"I\": 100, \"R\": 10})\n",
    "\n",
    "\n",
    "model._flows"
   ]
  },
  {
   "cell_type": "markdown",
   "id": "extended-parks",
   "metadata": {},
   "source": [
    "Next, lets add an age stratification with the following age strata:\n",
    "\n",
    "- 0: 0-19 year olds\n",
    "- 20: 20-39 year olds\n",
    "- 40: 40-59 year olds\n",
    "- 60: ages 60+\n",
    "\n",
    "Now you can see that 9 ageing flows have been added:"
   ]
  },
  {
   "cell_type": "code",
   "execution_count": 2,
   "id": "appointed-network",
   "metadata": {},
   "outputs": [],
   "source": [
    "strata = [0, 20, 40, 60]\n",
    "strat = AgeStratification(name=\"age\", strata=strata, compartments=['S', 'I', 'R'])\n",
    "strat.set_population_split({'0': 0.4, '20': 0.3, '40': 0.2, '60': 0.1})\n",
    "model.stratify_with(strat)\n",
    "model._flows"
   ]
  },
  {
   "cell_type": "markdown",
   "id": "outstanding-wisconsin",
   "metadata": {},
   "source": [
    "The rate of ageing is the reciprocal of the width of the age bracket: that is - people in the 0-19 age bracket will leave the bracket at a rate of 5% per year. People in the oldest age bracket will not leave their age bracket through an ageing process (although other flows may cause them to leave the model or transition between compartments within their bracket)."
   ]
  },
  {
   "cell_type": "markdown",
   "id": "subjective-average",
   "metadata": {},
   "source": [
    "Let's visualize the results."
   ]
  },
  {
   "cell_type": "code",
   "execution_count": 3,
   "id": "described-playlist",
   "metadata": {},
   "outputs": [],
   "source": [
    "import numpy as np\n",
    "import matplotlib.pyplot as plt\n",
    "\n",
    "def plot_results(model, compartment_names):\n",
    "    # Plot the results\n",
    "    fig, ax = plt.subplots(1, 1, figsize=(12, 6), dpi=120)\n",
    "    for i in range(model.outputs.shape[1]):\n",
    "        if model.compartments[i].name in compartment_names:\n",
    "            ax.plot(model.times, model.outputs.T[i])\n",
    "\n",
    "    ax.set_title(\"SIR Model Outputs\")\n",
    "    ax.set_xlabel(\"Year\")\n",
    "    ax.set_ylabel(\"Compartment size\")\n",
    "    start, end = ax.get_xlim()\n",
    "    ax.xaxis.set_ticks(np.arange(start + 1, end, 5))\n",
    "    ax.legend([str(c) for c in model.compartments if c.name in compartment_names], loc='upper right')\n",
    "    plt.show()"
   ]
  },
  {
   "cell_type": "code",
   "execution_count": 4,
   "id": "ordered-florida",
   "metadata": {},
   "outputs": [
    {
     "data": {
   "execution_count": 5,
   "id": "affected-electronics",
   "metadata": {},
   "outputs": [
    {
     "data": {
   "source": [
    "plot_results(model, ['S'])"
   ]
  },
  {
   "cell_type": "code",
   "execution_count": 6,
   "id": "direct-elite",
   "metadata": {},
   "outputs": [],
   "source": [
    "plot_results(model, ['I'])"
   ]
  },
  {
   "cell_type": "code",
   "execution_count": 7,
   "id": "commercial-juvenile",
   "metadata": {},
   "outputs": [],
   "source": [
    "plot_results(model, ['R'])"
   ]
  },
  {
   "cell_type": "markdown",
   "id": "meaning-vector",
   "metadata": {},
   "source": [
    "## Summary\n",
    "\n",
    "Now you know how to use an AgeStratification to automatically generate ageing flows. See the [API reference](http://summerepi.com/api/stratification.html#summer.stratification.AgeStratification) for more details."
   ]
  },
  {
   "cell_type": "code",
   "execution_count": null,
   "id": "threatened-january",
   "metadata": {},
   "outputs": [],
   "source": []
  }
 ],
 "metadata": {
  "kernelspec": {
   "display_name": "Python 3",
   "language": "python",
   "name": "python3"
  },
  "language_info": {
   "codemirror_mode": {
    "name": "ipython",
    "version": 3
   },
   "file_extension": ".py",
   "mimetype": "text/x-python",
   "name": "python",
   "nbconvert_exporter": "python",
   "pygments_lexer": "ipython3",
   "version": "3.6.13"
  }
 },
 "nbformat": 4,
 "nbformat_minor": 5
}
