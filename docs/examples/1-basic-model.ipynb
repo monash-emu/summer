{
 "cells": [
  {
   "cell_type": "markdown",
   "metadata": {},
   "source": [
    "# Basic model introduction\n",
    "\n",
    "This page introduces the processes for building and running a simple compartmental disease model with summer.\n",
    "In the following example, we will create an SIR compartmental model for a general, unspecified emerging infectious disease spreading through a fully susceptible population. In this model there will be:\n",
    "\n",
    "- three compartments: susceptible (S), infected (I) and recovered (R)\n",
    "- a starting population of 1000 people, with 10 of them infected (and infectious)\n",
    "- an evaluation timespan from day zero to 20 in 0.1 day steps\n",
    "- inter-compartmental flows for infection, deaths and recovery\n",
    "\n",
    "First, let's import the summer library and create a new [CompartmentalModel](/api/model.html) object."
   ]
  },
  {
   "cell_type": "code",
   "execution_count": null,
   "metadata": {},
   "outputs": [],
   "source": [
    "from summer import CompartmentalModel\n",
    "\n",
    "model = CompartmentalModel(\n",
    "    times=[0, 20],\n",
    "    compartments=[\"S\", \"I\", \"R\"],\n",
    "    infectious_compartments=[\"I\"],\n",
    "    timestep=0.1,\n",
    ")\n",
    "\n",
    "# View a description of the model compartments\n",
    "model.compartments"
   ]
  },
  {
   "cell_type": "markdown",
   "metadata": {},
   "source": [
    "## Adding a population \n",
    "\n",
    "Initially the model compartments are all empty. Let's add:\n",
    "\n",
    "- 990 people to the susceptible (S) compartment, plus\n",
    "- 10 in the infectious (I) compartment."
   ]
  },
  {
   "cell_type": "code",
   "execution_count": null,
   "metadata": {},
   "outputs": [],
   "source": [
    "# Add people to the model\n",
    "model.set_initial_population(distribution={\"S\": 990, \"I\": 10})\n",
    "\n",
    "# View the initial population\n",
    "model.initial_population"
   ]
  },
  {
   "cell_type": "markdown",
   "metadata": {},
   "source": [
    "## Adding intercompartmental flows \n",
    "\n",
    "Now, let's add some flows for people to transition between the compartments. These flows will define the dynamics of our infection. We will add:\n",
    "\n",
    "- an infection flow from S to I (using frequency-dependent transmission)\n",
    "- a recovery flow from I to R\n",
    "- an infection death flow, that depletes people from the I compartment"
   ]
  },
  {
   "cell_type": "code",
   "execution_count": null,
   "metadata": {},
   "outputs": [],
   "source": [
    "# Susceptible people can get infected.\n",
    "model.add_infection_frequency_flow(name=\"infection\", contact_rate=1, source=\"S\", dest=\"I\")\n",
    "\n",
    "# Infectious people take 3 days, on average, to recover.\n",
    "model.add_sojourn_flow(name=\"recovery\", sojourn_time=3, source=\"I\", dest=\"R\")\n",
    "# (If the model was run at this stage of construction, the basic reproduction number of this infection would be 6.)\n",
    "\n",
    "# Add an infection-specific death flow to the I compartment.\n",
    "model.add_death_flow(name=\"infection_death\", death_rate=0.05, source=\"I\")\n",
    "# (Note that this now slightly reduces the actual sojourn time in the I compartment from the original request of 3 days, \n",
    "# and so slightly reduces the basic reproduction number as well.)\n",
    "\n",
    "# Inspect new flows.\n",
    "model._flows"
   ]
  },
  {
   "cell_type": "markdown",
   "metadata": {},
   "source": [
    "## Running the model\n",
    "\n",
    "Now we can calculate the outputs for the model over the requested time period. \n",
    "The model calculates the compartment sizes by solving a system of differential equations (defined by the flows we just added) over the requested time period."
   ]
  },
  {
   "cell_type": "code",
   "execution_count": null,
   "metadata": {},
   "outputs": [],
   "source": [
    "model.run()"
   ]
  },
  {
   "cell_type": "markdown",
   "metadata": {},
   "source": [
    "## Print the model outputs\n",
    "\n",
    "The model's results are available in a NumPy array named `model.outputs`. \n",
    "This array is available after the model has been run. Let's have a look at what's inside:"
   ]
  },
  {
   "cell_type": "code",
   "execution_count": null,
   "metadata": {},
   "outputs": [],
   "source": [
    "# Force NumPy to format the output array nicely. \n",
    "import numpy as np\n",
    "np.set_printoptions(formatter={'all': lambda f: f\"{f:0.2f}\"})\n",
    "\n",
    "# View the first 20 timesteps of the output array.\n",
    "model.outputs[:20]"
   ]
  },
  {
   "cell_type": "markdown",
   "metadata": {},
   "source": [
    "## Plot the outputs\n",
    "\n",
    "You can get a better idea of what is going on inside the model by visualizing how the compartment sizes change over time."
   ]
  },
  {
   "cell_type": "code",
   "execution_count": null,
   "metadata": {},
   "outputs": [],
   "source": [
    "import numpy as np\n",
    "import matplotlib.pyplot as plt\n",
    "\n",
    "fig, ax = plt.subplots(1, 1, figsize=(12, 6), dpi=120)\n",
    "\n",
    "# Add each compartment to the plot.\n",
    "for i in range(model.outputs.shape[1]):\n",
    "    ax.plot(model.times, model.outputs.T[i])\n",
    "\n",
    "ax.set_title(\"SIR Model Outputs\")\n",
    "ax.set_xlabel(\"Days\")\n",
    "ax.set_ylabel(\"Compartment size\")\n",
    "ax.legend([\"S\", \"I\", \"R\"])\n",
    "start, end = ax.get_xlim()\n",
    "ax.xaxis.set_ticks(np.arange(start + 1.5, end, 5))\n",
    "plt.show()"
   ]
  },
  {
   "cell_type": "markdown",
   "metadata": {},
   "source": [
    "## Summary\n",
    "\n",
    "That's it for now, now you know how to:\n",
    "\n",
    "- Create a model\n",
    "- Add a population\n",
    "- Add flows\n",
    "- Run the model\n",
    "- Access and visualize the outputs\n",
    "\n",
    "A detailed API reference for the CompartmentalModel class can be found [here](http://summerepi.com/api/model.html)"
   ]
  },
  {
   "cell_type": "markdown",
   "metadata": {},
   "source": [
    "## Bonus: how the model works inside\n",
    "\n",
    "This section presents a code snippet that shows an approximation of what is happening inside the model we just built and ran, (using the [Euler method](https://en.wikipedia.org/wiki/Euler_method) to solve the ODE defined by the model)."
   ]
  },
  {
   "cell_type": "code",
   "execution_count": null,
   "metadata": {},
   "outputs": [],
   "source": [
    "import numpy as np\n",
    "import matplotlib.pyplot as plt\n",
    "\n",
    "TIMESTEP = 0.1\n",
    "START_TIME = 0\n",
    "END_TIME = 20\n",
    "\n",
    "# Get times\n",
    "time_period = END_TIME - START_TIME + 1\n",
    "num_steps = time_period / TIMESTEP\n",
    "times = np.linspace(START_TIME, END_TIME, num=int(num_steps))\n",
    "\n",
    "# Define initial conditions\n",
    "initial_conditions = np.array([990.0, 10.0, 0.0])  # S, I, R\n",
    "\n",
    "# Define outputs\n",
    "outputs = np.zeros((int(num_steps), 3))\n",
    "outputs[0] = initial_conditions\n",
    "\n",
    "# Calculate outputs for each timestep\n",
    "for t_idx, t in enumerate(times):\n",
    "    if t_idx == 0:\n",
    "        continue\n",
    "\n",
    "    flow_rates = np.zeros(3)\n",
    "    compartment_sizes = outputs[t_idx - 1 ]\n",
    "\n",
    "    # Susceptible people can get infected (frequency-dependent).\n",
    "    contact_rate = 2.0\n",
    "    num_sus = compartment_sizes[0]\n",
    "    num_inf = compartment_sizes[1]\n",
    "    num_pop = compartment_sizes.sum()\n",
    "    force_of_infection = contact_rate * num_inf / num_pop\n",
    "    infection_flow_rate = force_of_infection * num_sus\n",
    "    flow_rates[0] -= infection_flow_rate\n",
    "    flow_rates[1] += infection_flow_rate\n",
    "\n",
    "    # Infectious people take 3 days, on average, to recover.\n",
    "    sojourn_time = 3.0\n",
    "    num_inf = compartment_sizes[1]\n",
    "    recovery_flow_rate = num_inf / sojourn_time\n",
    "    flow_rates[1] -= recovery_flow_rate\n",
    "    flow_rates[2] += recovery_flow_rate\n",
    "    \n",
    "    # Add an infection-specific death flow to the I compartment.\n",
    "    death_rate = 0.05\n",
    "    num_inf = compartment_sizes[1]\n",
    "    recovery_flow_rate = num_inf * death_rate\n",
    "    flow_rates[1] -= recovery_flow_rate\n",
    "    \n",
    "    # Calculate compartment sizes at next timestep given flowrates.\n",
    "    outputs[t_idx] = compartment_sizes + flow_rates * TIMESTEP  \n",
    "    \n",
    "# Plot the results as a function of time for S, I, R respectively.\n",
    "fig, ax = plt.subplots(1, 1, figsize=(12, 6), dpi=120)\n",
    "\n",
    "# Add each compartment to the plot.\n",
    "for i in range(outputs.shape[1]):\n",
    "    ax.plot(times, outputs.T[i])\n",
    "\n",
    "ax.set_title(\"SIR Model Outputs\")\n",
    "ax.set_xlabel(\"Days\")\n",
    "ax.set_ylabel(\"Compartment size\")\n",
    "ax.legend([\"S\", \"I\", \"R\"])\n",
    "start, end = ax.get_xlim()\n",
    "ax.xaxis.set_ticks(np.arange(start + 1.5, end, 5))\n",
    "plt.show()"
   ]
  }
 ],
 "metadata": {
  "kernelspec": {
   "display_name": "Python 3",
   "language": "python",
   "name": "python3"
  },
  "language_info": {
   "codemirror_mode": {
    "name": "ipython",
    "version": 3
   },
   "file_extension": ".py",
   "mimetype": "text/x-python",
   "name": "python",
   "nbconvert_exporter": "python",
   "pygments_lexer": "ipython3",
   "version": "3.6.13"
  }
 },
 "nbformat": 4,
 "nbformat_minor": 2
}
